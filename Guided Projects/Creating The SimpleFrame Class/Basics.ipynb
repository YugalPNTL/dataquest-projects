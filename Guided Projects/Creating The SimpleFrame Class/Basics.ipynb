{
 "cells": [
  {
   "cell_type": "markdown",
   "metadata": {},
   "source": [
    "# Creating the SimpleFrame Class\n",
    "\n",
    "## Introduction\n",
    "This project is intended to practice intermediate python skills and object-oriented principles in the creation of a class. The SimpleFrame class will be used with Spotify data to try to answer the questions:\n",
    "\n",
    "* Which song had the highest number of plays in one day?\n",
    "* Which song had the lowest number of plays in one day?"
   ]
  },
  {
   "cell_type": "markdown",
   "metadata": {},
   "source": [
    "## Designing Our Class\n",
    "SimpleFrame should make it easy for us to **load**, **preview**, **manipulate**, and make **calculations** with our **data**.\n",
    "\n",
    "To preview our data, we’ll need to:\n",
    "* Be able to **view** the **first five rows**\n",
    "* Be able to **view** the **shape of our data**\n",
    "\n",
    "To manipulate our data, we’ll need to:\n",
    "* **Add** new columns\n",
    "* Be able to **apply values** to **columns**\n",
    "* Be able to **subset** our data\n",
    "\n",
    "To make calculations, we’ll need to:\n",
    "* Finding the **minimum**\n",
    "* Finding the **maximum**\n",
    "* Finding the **mean**\n",
    "* Finding the **standard deviation**"
   ]
  },
  {
   "cell_type": "markdown",
   "metadata": {},
   "source": [
    "## Creating the Class and Attributes\n",
    "\n",
    "### Translating our definitions into objects\n",
    "* SimpleFrame -> Class\n",
    "* Load -> Method\n",
    "* Data -> Attribute\n",
    "* Columns -> Attribute\n",
    "\n",
    "### Preview\n",
    "* View the first five rows -> method\n",
    "* View the shape of our data -> method\n",
    "\n",
    "### Manipulate\n",
    "* Add new columns > Method\n",
    "* Apply values to columns > Method\n",
    "* Subset our data > Method\n",
    "\n",
    "### Calculations\n",
    "* Minimum -> Method\n",
    "* Maximum -> Method\n",
    "* Mean -> Method\n",
    "* Standard deviation -> Method"
   ]
  },
  {
   "cell_type": "code",
   "execution_count": 6,
   "metadata": {
    "collapsed": true
   },
   "outputs": [],
   "source": [
    "import csv\n",
    "from statistics import mean, stdev, median, mode\n",
    "\n",
    "class SimpleFrame():\n",
    "    def __init__(self,filename):\n",
    "        self.filename = filename\n",
    "    \n",
    "    def read_data(self):\n",
    "        with open(self.filename,'r') as f:\n",
    "            file_data = csv.reader(f)\n",
    "            data_list = list(file_data)\n",
    "            # separate data and headers\n",
    "            self.data = data_list[1:]\n",
    "            self.columns = data_list[0]\n",
    "    \n",
    "    # Preview methods\n",
    "    def head(self):\n",
    "        return [self.columns] + self.data[:5]\n",
    "    \n",
    "    def shape(self):\n",
    "        num_rows = len(self.data)\n",
    "        num_columns = len(self.columns)\n",
    "        return (num_rows, num_columns)\n",
    "    \n",
    "    # Manipulate methods\n",
    "    def new_column(self, column_name):\n",
    "        self.columns.append(column_name)\n",
    "        for row in self.data:\n",
    "            row.append(0)\n",
    "        \n",
    "    def apply(self, column_name, new_value):\n",
    "        column_idx = self.columns.index(column_name)\n",
    "        for row in self.data:\n",
    "            row[column_idx] = new_value\n",
    "            \n",
    "    def subset(self,column_name, row_value):\n",
    "        column_idx = self.columns.index(column_name)\n",
    "        subset_data = []\n",
    "        for row in self.data:\n",
    "            if row_value in row:\n",
    "                subset_data.append(row)\n",
    "        return subset_data\n",
    "    \n",
    "    # Calculations\n",
    "    def summary_stats(self, column_name):\n",
    "        column_idx = self.columns.index(column_name)\n",
    "        column_data = [int(row[column_idx]) for row in self.data]\n",
    "        print(\"Summary Stats for column - \" + column_name)\n",
    "        print(\"----------------------------------------\")\n",
    "        print(\"The mean is {}\".format(mean(column_data)))\n",
    "        print(\"The median is {}\".format(median(column_data)))\n",
    "        print(\"The mode is {}\".format(mode(column_data)))\n",
    "        print(\"The standard deviation is {}\".format(stdev(column_data)))\n",
    "        \n",
    "    def maximum(self,column_name):\n",
    "        column_idx = self.columns.index(column_name)\n",
    "        return max(self.data,key = lambda x: int(x[column_idx]))\n",
    "    \n",
    "    def minimum(self,column_name):\n",
    "        column_idx = self.columns.index(column_name)\n",
    "        return min(self.data,key = lambda x: int(x[column_idx]))\n",
    "    \n",
    "    def percentile_ranking(self, song_title):\n",
    "        streams_col_idx = self.columns.index(\"Streams\")\n",
    "        track_col_idx = self.columns.index(\"Track Name\")\n",
    "        ordered_data = sorted(self.data, key=lambda x: int(x[streams_col_idx]))\n",
    "        if song_title in [row[track_col_idx] for row in ordered_data]:\n",
    "            track_pos = [row[track_col_idx] for row in ordered_data].index(song_title)\n",
    "        else:\n",
    "            return \"No such song.\"\n",
    "        return round(100*(self.shape()[0] - track_pos) / self.shape()[0])"
   ]
  },
  {
   "cell_type": "markdown",
   "metadata": {},
   "source": [
    "## Making our Calculations"
   ]
  },
  {
   "cell_type": "code",
   "execution_count": 7,
   "metadata": {
    "collapsed": false
   },
   "outputs": [
    {
     "name": "stdout",
     "output_type": "stream",
     "text": [
      "Data Shape: (37100, 6) \n",
      "\n",
      "Data Preview: [['', 'Track Name', 'Artist', 'Streams', 'Date', 'Region', 'hello'], ['0', 'Reggaetón Lento (Bailemos)', 'CNCO', '19272', '2017-01-01', 'ec', 7], ['1', 'Chantaje', 'Shakira', '19270', '2017-01-01', 'ec', 7], ['2', 'Otra Vez (feat. J Balvin)', 'Zion & Lennox', '15761', '2017-01-01', 'ec', 7], ['3', \"Vente Pa' Ca\", 'Ricky Martin', '14954', '2017-01-01', 'ec', 7], ['4', 'Safari', 'J Balvin', '14269', '2017-01-01', 'ec', 7]] \n",
      "\n",
      "Percentile Raking - Chantaje by Shakira: 91 \n",
      "\n",
      "Summary Stats for column - Streams\n",
      "----------------------------------------\n",
      "The mean is 6551.852857142857\n",
      "The median is 4753.5\n",
      "The mode is 3185\n",
      "The standard deviation is 4835.224414499119\n",
      "\n",
      "\n",
      "['', 'Track Name', 'Artist', 'Streams', 'Date', 'Region', 'hello']\n",
      "['2700', 'Despacito (Featuring Daddy Yankee)', 'Luis Fonsi', '64238', '2017-01-28', 'ec', 7]\n",
      "['5099', 'Por Fin Te Encontré', 'Cali Y El Dandee', '1993', '2017-02-20', 'ec', 7]\n"
     ]
    }
   ],
   "source": [
    "s = SimpleFrame(\"music_data.csv\")\n",
    "s.read_data()\n",
    "\n",
    "print(\"Data Shape:\", s.shape(),'\\n')\n",
    "s.new_column('hello')\n",
    "s.apply('hello',7)\n",
    "print(\"Data Preview:\",s.head(),'\\n')\n",
    "#print(\"Data Subset - Shakira:\", s.subset(\"Artist\",\"Shakira\"), \"\\n\")\n",
    "\n",
    "print(\"Percentile Raking - Chantaje by Shakira:\", s.percentile_ranking('Chantaje'),'\\n')\n",
    "\n",
    "s.summary_stats(\"Streams\")\n",
    "\n",
    "print('\\n')\n",
    "print(s.columns)\n",
    "print(s.maximum(\"Streams\"))\n",
    "print(s.minimum(\"Streams\"))"
   ]
  },
  {
   "cell_type": "markdown",
   "metadata": {
    "collapsed": true
   },
   "source": [
    "## Results\n",
    "\n",
    "The song that had the highest number of streams in one day was Despacito by Luis Fonsi with 64238 streams.\n",
    "\n",
    "The song that had the lowest number of streams in one day was Por Fin Te Encontre by Cali Y El Dandee with 1993.\n"
   ]
  }
 ],
 "metadata": {
  "kernelspec": {
   "display_name": "Python 3",
   "language": "python",
   "name": "python3"
  },
  "language_info": {
   "codemirror_mode": {
    "name": "ipython",
    "version": 3
   },
   "file_extension": ".py",
   "mimetype": "text/x-python",
   "name": "python",
   "nbconvert_exporter": "python",
   "pygments_lexer": "ipython3",
   "version": "3.4.3"
  }
 },
 "nbformat": 4,
 "nbformat_minor": 2
}
