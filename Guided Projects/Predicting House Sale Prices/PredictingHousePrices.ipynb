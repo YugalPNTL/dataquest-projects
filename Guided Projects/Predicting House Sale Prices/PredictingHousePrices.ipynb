{
 "cells": [
  {
   "cell_type": "markdown",
   "metadata": {},
   "source": [
    "# Predicting House Sale Prices\n",
    "\n",
    "## Setup"
   ]
  },
  {
   "cell_type": "code",
   "execution_count": 2,
   "metadata": {},
   "outputs": [
    {
     "name": "stdout",
     "output_type": "stream",
     "text": [
      "2925\n"
     ]
    }
   ],
   "source": [
    "import pandas as pd\n",
    "import matplotlib\n",
    "import numpy as np\n",
    "\n",
    "data = pd.read_csv('AmesHousing.txt',sep='\\t')\n",
    "# remove recommended outliers\n",
    "data = data.drop(data[data['Gr Liv Area'] > 4000].index)\n",
    "print(len(data))"
   ]
  },
  {
   "cell_type": "code",
   "execution_count": 3,
   "metadata": {},
   "outputs": [
    {
     "name": "stdout",
     "output_type": "stream",
     "text": [
      "53033.9121974\n"
     ]
    }
   ],
   "source": [
    "from sklearn.linear_model import LinearRegression\n",
    "from sklearn.metrics import mean_squared_error\n",
    "\n",
    "def transform_features(df):  \n",
    "    return df\n",
    "\n",
    "def select_features(df):\n",
    "    return df[['Gr Liv Area','SalePrice']]\n",
    "\n",
    "def train_and_test(df):\n",
    "    k=10\n",
    "    \n",
    "    #split data into train and test\n",
    "    train = df[:1460]\n",
    "    test = df[1460:]\n",
    "    \n",
    "    #select numerical columns\n",
    "    num_train = train.select_dtypes(include=['integer','float'])\n",
    "    num_test = test.select_dtypes(include=['integer','float'])\n",
    "    \n",
    "    features = num_train.columns.drop('SalePrice')\n",
    "    \n",
    "    #create and fit model to train data\n",
    "    lr = LinearRegression()\n",
    "    lr.fit(num_train[features],num_train['SalePrice'])\n",
    "    predictions = lr.predict(num_test[features])\n",
    "    mse = mean_squared_error(test['SalePrice'],predictions)\n",
    "    rmse = np.sqrt(np.absolute(mse))\n",
    "    return rmse\n",
    "\n",
    "transformed_data = transform_features(data)\n",
    "filtered_data = select_features(transformed_data)\n",
    "rmse = train_and_test(filtered_data)\n",
    "print(rmse)"
   ]
  },
  {
   "cell_type": "markdown",
   "metadata": {},
   "source": [
    "## Feature Engineering\n",
    "\n",
    "First we'll take a look at columns to see what features leak information about the sale. Taking a look at [DataDocumentation.txt](https://ww2.amstat.org/publications/jse/v19n3/decock/DataDocumentation.txt), the following columns stand out:\n",
    "\n",
    "- Mo Sold\n",
    "- Yr Sold\n",
    "- Sale Type\n",
    "- Sale Condition\n",
    "\n",
    "Additionally, the follow columns are not helpful in making preditions as they are arbitrary identifiers assigned to each house/row:\n",
    "\n",
    "- Order\n",
    "- PID\n",
    "\n",
    "Let's remove these columns."
   ]
  },
  {
   "cell_type": "code",
   "execution_count": 4,
   "metadata": {
    "collapsed": true
   },
   "outputs": [],
   "source": [
    "test_df = data[:]\n",
    "# Let's keep track of these columns to drop later. We'll actually use Yr Sold in feature creation\n",
    "nu_cols = ['Order','PID']\n",
    "dl_cols = ['Mo Sold','Yr Sold','Sale Type','Sale Condition']"
   ]
  },
  {
   "cell_type": "markdown",
   "metadata": {},
   "source": [
    "Next, we will remove and fill in missing data. Any text column with missing data will be removed along with any numerical column with more than 5% data missing. Then we will fill in the numerical columns with the most common value."
   ]
  },
  {
   "cell_type": "code",
   "execution_count": 5,
   "metadata": {},
   "outputs": [
    {
     "name": "stdout",
     "output_type": "stream",
     "text": [
      "5%:  146.25\n"
     ]
    },
    {
     "data": {
      "text/plain": [
       "0     55\n",
       "1      6\n",
       "2      2\n",
       "23     1\n",
       "dtype: int64"
      ]
     },
     "execution_count": 5,
     "metadata": {},
     "output_type": "execute_result"
    }
   ],
   "source": [
    "# Get number of missing values for each column.\n",
    "num_missing = test_df.isnull().sum() \n",
    "\n",
    "# Remove text columns with any missing data\n",
    "text_mv_counts = test_df.select_dtypes(include=['object']).isnull().sum()\n",
    "text_mv_cols = text_mv_counts[text_mv_counts > 0].index\n",
    "test_df = test_df.drop(text_mv_cols,axis=1)\n",
    "\n",
    "# Remove numerical columns with >5% missing data\n",
    "cutoff = test_df.shape[0]/20\n",
    "print(\"5%: \", cutoff)\n",
    "num_mv_counts = test_df.select_dtypes(include=['integer','float']).isnull().sum()\n",
    "num_drop_cols = num_mv_counts[num_mv_counts > cutoff].index\n",
    "test_df = test_df.drop(num_drop_cols,axis=1)\n",
    "test_df.isnull().sum().value_counts()"
   ]
  },
  {
   "cell_type": "code",
   "execution_count": 6,
   "metadata": {},
   "outputs": [
    {
     "data": {
      "text/plain": [
       "{'Bsmt Full Bath': 0.0,\n",
       " 'Bsmt Half Bath': 0.0,\n",
       " 'Bsmt Unf SF': 0.0,\n",
       " 'BsmtFin SF 1': 0.0,\n",
       " 'BsmtFin SF 2': 0.0,\n",
       " 'Garage Area': 0.0,\n",
       " 'Garage Cars': 2.0,\n",
       " 'Mas Vnr Area': 0.0,\n",
       " 'Total Bsmt SF': 0.0}"
      ]
     },
     "execution_count": 6,
     "metadata": {},
     "output_type": "execute_result"
    }
   ],
   "source": [
    "# Find most common value for columns with missing data\n",
    "num_mv_counts = test_df.select_dtypes(include=['integer','float']).isnull().sum()\n",
    "num_mv_cols = num_mv_counts[num_mv_counts > 0].index\n",
    "fill_values = test_df[num_mv_cols].mode().to_dict(orient='records')[0]\n",
    "fill_values"
   ]
  },
  {
   "cell_type": "code",
   "execution_count": 7,
   "metadata": {},
   "outputs": [
    {
     "data": {
      "text/plain": [
       "0    64\n",
       "dtype: int64"
      ]
     },
     "execution_count": 7,
     "metadata": {},
     "output_type": "execute_result"
    }
   ],
   "source": [
    "# Fill in the missing values\n",
    "test_df = test_df.fillna(fill_values)\n",
    "\n",
    "test_df.isnull().sum().value_counts()"
   ]
  },
  {
   "cell_type": "markdown",
   "metadata": {},
   "source": [
    "Next we'll look at adding a feature that takes date-based data and turn it into more useful information about the houses."
   ]
  },
  {
   "cell_type": "code",
   "execution_count": 8,
   "metadata": {},
   "outputs": [
    {
     "data": {
      "text/plain": [
       " 0    1567\n",
       "-1       1\n",
       "dtype: int64"
      ]
     },
     "execution_count": 8,
     "metadata": {},
     "output_type": "execute_result"
    }
   ],
   "source": [
    "# Calculate values and check to see where they make sense\n",
    "years_until_remod = data['Year Remod/Add'] - test_df['Year Built']\n",
    "years_until_remod.value_counts()[[0,-1]]"
   ]
  },
  {
   "cell_type": "markdown",
   "metadata": {},
   "source": [
    "For the majority of listed houses, the remod date is the same as the build date, which means this feature will not be useful. Let's take a look at two more features we can create, based date-valued features."
   ]
  },
  {
   "cell_type": "code",
   "execution_count": 9,
   "metadata": {},
   "outputs": [
    {
     "name": "stdout",
     "output_type": "stream",
     "text": [
      "Series([], dtype: int64)\n",
      "1702   -1\n",
      "dtype: int64\n"
     ]
    }
   ],
   "source": [
    "# Create two features from 'Yr Sold'\n",
    "years_until_sold = test_df['Yr Sold'] - test_df['Year Built']\n",
    "print(years_until_sold[years_until_sold < 0])\n",
    "years_since_remod = test_df['Yr Sold'] - test_df['Year Remod/Add']\n",
    "print(years_since_remod[years_since_remod < 0])"
   ]
  },
  {
   "cell_type": "markdown",
   "metadata": {},
   "source": [
    "We'll add these features, remove the house that has bad data in one of them and then drop all the year data from the dataFrame."
   ]
  },
  {
   "cell_type": "code",
   "execution_count": 10,
   "metadata": {
    "collapsed": true
   },
   "outputs": [],
   "source": [
    "test_df['years_until_sold'] = years_until_sold\n",
    "test_df['years_since_remod'] = years_since_remod\n",
    "test_df.drop(1702,axis=0)\n",
    "\n",
    "# Drop year columns\n",
    "test_df = test_df.drop(['Year Remod/Add','Year Built'],axis=1)\n",
    "\n",
    "# Remove non-useful columns or columns that leak sale data\n",
    "test_df = test_df.drop(nu_cols,axis=1)\n",
    "test_df = test_df.drop(dl_cols,axis=1)"
   ]
  },
  {
   "cell_type": "markdown",
   "metadata": {},
   "source": [
    "Let's update the transform_features function to incorporate all of the work we've done."
   ]
  },
  {
   "cell_type": "code",
   "execution_count": 11,
   "metadata": {},
   "outputs": [
    {
     "name": "stdout",
     "output_type": "stream",
     "text": [
      "53033.9121974\n"
     ]
    }
   ],
   "source": [
    "def transform_features(df):\n",
    "    # Remove text columns with any missing data\n",
    "    text_mv_counts = df.select_dtypes(include=['object']).isnull().sum()\n",
    "    text_mv_cols = text_mv_counts[text_mv_counts > 0].index\n",
    "    df = df.drop(text_mv_cols,axis=1)\n",
    "\n",
    "    # Remove numerical columns with >5% missing data\n",
    "    cutoff = df.shape[0]/20\n",
    "    num_mv_counts = df.select_dtypes(include=['integer','float']).isnull().sum()\n",
    "    num_drop_cols = num_mv_counts[num_mv_counts > cutoff].index\n",
    "    df = df.drop(num_drop_cols,axis=1)\n",
    "    \n",
    "    # Find most common value for columns with missing data\n",
    "    num_mv_counts = df.select_dtypes(include=['integer','float']).isnull().sum()\n",
    "    num_mv_cols = num_mv_counts[num_mv_counts > 0].index\n",
    "    fill_values = df[num_mv_cols].mode().to_dict(orient='records')[0]\n",
    "    # Fill in the missing values\n",
    "    df = df.fillna(fill_values)\n",
    "    \n",
    "    #Add Year-based features\n",
    "    df['years_until_sold'] = df['Yr Sold'] - df['Year Built']\n",
    "    df['years_since_remod'] = df['Yr Sold'] - df['Year Remod/Add']\n",
    "    df.drop(1702,axis=0)\n",
    "    \n",
    "    # Drop year columns\n",
    "    df = df.drop(['Year Remod/Add','Year Built'],axis=1)   \n",
    "    # Remove non-useful columns or columns that leak sale data\n",
    "    nu_cols = ['Order','PID']\n",
    "    dl_cols = ['Mo Sold','Yr Sold','Sale Type','Sale Condition']\n",
    "    df = df.drop(nu_cols,axis=1)\n",
    "    df = df.drop(dl_cols,axis=1)\n",
    "    return df\n",
    "    \n",
    "transformed_data = transform_features(data)\n",
    "filtered_data = select_features(transformed_data)\n",
    "rmse = train_and_test(filtered_data)\n",
    "print(rmse)"
   ]
  },
  {
   "cell_type": "markdown",
   "metadata": {},
   "source": [
    "### Feature Selection"
   ]
  },
  {
   "cell_type": "code",
   "execution_count": 12,
   "metadata": {},
   "outputs": [
    {
     "data": {
      "text/plain": [
       "<matplotlib.axes._subplots.AxesSubplot at 0x22caefe4c18>"
      ]
     },
     "execution_count": 12,
     "metadata": {},
     "output_type": "execute_result"
    },
    {
     "data": {
      "image/png": "[encoded data removed]",
      "text/plain": [
       "<matplotlib.figure.Figure at 0x22caefe4668>"
      ]
     },
     "metadata": {},
     "output_type": "display_data"
    }
   ],
   "source": [
    "%matplotlib inline\n",
    "import seaborn as sns\n",
    "num_df = test_df.select_dtypes(include=['float','integer'])\n",
    "sns.heatmap(num_df.corr().abs())"
   ]
  },
  {
   "cell_type": "markdown",
   "metadata": {},
   "source": [
    "The following sets of features correlate strongly with each other:\n",
    "    - Garage Area - Garage Cars\n",
    "    - 1st Flr SF - Total Bsmt SF\n",
    "    - TotRms AbvGrd - Gr Liv Area\n",
    "Of these sets, we'll keep 'Garage Area', '1st Flr SF', 'Gr Liv Area'. In each pair, this column is at least as granular as the other in values."
   ]
  },
  {
   "cell_type": "code",
   "execution_count": 13,
   "metadata": {
    "collapsed": true
   },
   "outputs": [],
   "source": [
    "# Drop features that are highly correlated with other features\n",
    "test_df = test_df.drop(['Garage Cars', 'Total Bsmt SF', 'TotRms AbvGrd'],axis=1)\n",
    "num_df = num_df.drop(['Garage Cars', 'Total Bsmt SF', 'TotRms AbvGrd'],axis=1)"
   ]
  },
  {
   "cell_type": "markdown",
   "metadata": {},
   "source": [
    "We'll select only features that have a strong enough correlation with 'SalePrice'."
   ]
  },
  {
   "cell_type": "code",
   "execution_count": 14,
   "metadata": {},
   "outputs": [
    {
     "data": {
      "text/plain": [
       "BsmtFin SF 2         0.007565\n",
       "Misc Val             0.019183\n",
       "3Ssn Porch           0.033305\n",
       "Pool Area            0.035491\n",
       "Low Qual Fin SF      0.037836\n",
       "Bsmt Half Bath       0.045720\n",
       "MS SubClass          0.086906\n",
       "Overall Cond         0.103296\n",
       "Screen Porch         0.115556\n",
       "Kitchen AbvGr        0.120938\n",
       "Enclosed Porch       0.129339\n",
       "Bedroom AbvGr        0.139766\n",
       "Bsmt Unf SF          0.185632\n",
       "2nd Flr SF           0.257132\n",
       "Lot Area             0.270047\n",
       "Bsmt Full Bath       0.280989\n",
       "Half Bath            0.284458\n",
       "Open Porch SF        0.322075\n",
       "Wood Deck SF         0.326911\n",
       "BsmtFin SF 1         0.444721\n",
       "Fireplaces           0.474878\n",
       "Mas Vnr Area         0.506895\n",
       "years_since_remod    0.542125\n",
       "Full Bath            0.544486\n",
       "years_until_sold     0.565492\n",
       "1st Flr SF           0.642902\n",
       "Garage Area          0.648050\n",
       "Gr Liv Area          0.719463\n",
       "Overall Qual         0.805236\n",
       "SalePrice            1.000000\n",
       "Name: SalePrice, dtype: float64"
      ]
     },
     "execution_count": 14,
     "metadata": {},
     "output_type": "execute_result"
    }
   ],
   "source": [
    "correlations = num_df.corr()['SalePrice'].abs().sort_values()\n",
    "correlations"
   ]
  },
  {
   "cell_type": "code",
   "execution_count": 15,
   "metadata": {
    "collapsed": true
   },
   "outputs": [],
   "source": [
    "# Drop numerical columns with \"SalePrice\" correlation < .4.\n",
    "test_df = test_df.drop(correlations[correlations < .4].index,axis=1)"
   ]
  },
  {
   "cell_type": "markdown",
   "metadata": {},
   "source": [
    "Let's take a look at categorical columns and determine which ones should be used based on the following criteria:\n",
    "\n",
    "- Not too many unique values (as to now blow up the dataset)\n",
    "- Not too low of variance (if all houses fall into same category, its not a useful feature)\n",
    "    "
   ]
  },
  {
   "cell_type": "code",
   "execution_count": 16,
   "metadata": {
    "collapsed": true
   },
   "outputs": [],
   "source": [
    "# Select categorical columns\n",
    "nominal_cols = [\"PID\",\"MS SubClass\",\"MS Zoning\",\"Street\",\"Alley\",\"Land Contour\",\"Lot Config\",\"Neighborhood\",\"Condition 1\",\"Condition 2\",\"Bldg Type\",\"House Style\",\"Roof Style\",\"Roof Matl\",\"Exterior 1st\",\"Exterior 2nd\",\"Mas Vnr Type\",\"Foundation\",\"Heating\",\"Central Air\",\"Garage Type\",\"Misc Feature\",\"Sale Type\"]\n",
    "ordinal_cols = [\"Lot Shape\",\"Utilities\",\"Land Slope\",\"Exter Qual\",\"Exter Cond\",\"Bsmt Qual\",\"Bsmt Cond\",\"Bsmt Exposure\",\"BsmtFin Type 1\",\"BsmtFin Type 2\",\"Heating QC\",\"Electrical\",\"Kitchen Qual\",\"Functional\",\"Fireplace Qu\",\"Garage Finish\",\"Garage Qual\",\"Garage Cond\",\"Paved Drive\",\"Pool QC\",\"Fence\",\"Sale Condition\"]\n",
    "ordinal_numeric_cols = [\"Overall Qual\",\"Overall Cond\"]\n",
    "cat_cols = nominal_cols + ordinal_cols"
   ]
  },
  {
   "cell_type": "code",
   "execution_count": 17,
   "metadata": {},
   "outputs": [
    {
     "data": {
      "text/html": [
       "<div>\n",
       "<style scoped>\n",
       "    .dataframe tbody tr th:only-of-type {\n",
       "        vertical-align: middle;\n",
       "    }\n",
       "\n",
       "    .dataframe tbody tr th {\n",
       "        vertical-align: top;\n",
       "    }\n",
       "\n",
       "    .dataframe thead th {\n",
       "        text-align: right;\n",
       "    }\n",
       "</style>\n",
       "<table border=\"1\" class=\"dataframe\">\n",
       "  <thead>\n",
       "    <tr style=\"text-align: right;\">\n",
       "      <th></th>\n",
       "      <th>MS Zoning</th>\n",
       "      <th>Lot Shape</th>\n",
       "      <th>Land Contour</th>\n",
       "      <th>Lot Config</th>\n",
       "      <th>Condition 1</th>\n",
       "      <th>Bldg Type</th>\n",
       "      <th>House Style</th>\n",
       "      <th>Roof Style</th>\n",
       "      <th>Exter Qual</th>\n",
       "      <th>Exter Cond</th>\n",
       "      <th>Foundation</th>\n",
       "      <th>Heating QC</th>\n",
       "      <th>Central Air</th>\n",
       "      <th>Kitchen Qual</th>\n",
       "      <th>Functional</th>\n",
       "      <th>Paved Drive</th>\n",
       "    </tr>\n",
       "  </thead>\n",
       "  <tbody>\n",
       "    <tr>\n",
       "      <th>count</th>\n",
       "      <td>2925</td>\n",
       "      <td>2925</td>\n",
       "      <td>2925</td>\n",
       "      <td>2925</td>\n",
       "      <td>2925</td>\n",
       "      <td>2925</td>\n",
       "      <td>2925</td>\n",
       "      <td>2925</td>\n",
       "      <td>2925</td>\n",
       "      <td>2925</td>\n",
       "      <td>2925</td>\n",
       "      <td>2925</td>\n",
       "      <td>2925</td>\n",
       "      <td>2925</td>\n",
       "      <td>2925</td>\n",
       "      <td>2925</td>\n",
       "    </tr>\n",
       "    <tr>\n",
       "      <th>unique</th>\n",
       "      <td>7</td>\n",
       "      <td>4</td>\n",
       "      <td>4</td>\n",
       "      <td>5</td>\n",
       "      <td>9</td>\n",
       "      <td>5</td>\n",
       "      <td>8</td>\n",
       "      <td>6</td>\n",
       "      <td>4</td>\n",
       "      <td>5</td>\n",
       "      <td>6</td>\n",
       "      <td>5</td>\n",
       "      <td>2</td>\n",
       "      <td>5</td>\n",
       "      <td>8</td>\n",
       "      <td>3</td>\n",
       "    </tr>\n",
       "    <tr>\n",
       "      <th>top</th>\n",
       "      <td>RL</td>\n",
       "      <td>Reg</td>\n",
       "      <td>Lvl</td>\n",
       "      <td>Inside</td>\n",
       "      <td>Norm</td>\n",
       "      <td>1Fam</td>\n",
       "      <td>1Story</td>\n",
       "      <td>Gable</td>\n",
       "      <td>TA</td>\n",
       "      <td>TA</td>\n",
       "      <td>PConc</td>\n",
       "      <td>Ex</td>\n",
       "      <td>Y</td>\n",
       "      <td>TA</td>\n",
       "      <td>Typ</td>\n",
       "      <td>Y</td>\n",
       "    </tr>\n",
       "    <tr>\n",
       "      <th>freq</th>\n",
       "      <td>2268</td>\n",
       "      <td>1859</td>\n",
       "      <td>2631</td>\n",
       "      <td>2138</td>\n",
       "      <td>2519</td>\n",
       "      <td>2420</td>\n",
       "      <td>1480</td>\n",
       "      <td>2320</td>\n",
       "      <td>1799</td>\n",
       "      <td>2544</td>\n",
       "      <td>1305</td>\n",
       "      <td>1490</td>\n",
       "      <td>2729</td>\n",
       "      <td>1494</td>\n",
       "      <td>2723</td>\n",
       "      <td>2647</td>\n",
       "    </tr>\n",
       "  </tbody>\n",
       "</table>\n",
       "</div>"
      ],
      "text/plain": [
       "       MS Zoning Lot Shape Land Contour Lot Config Condition 1 Bldg Type  \\\n",
       "count       2925      2925         2925       2925        2925      2925   \n",
       "unique         7         4            4          5           9         5   \n",
       "top           RL       Reg          Lvl     Inside        Norm      1Fam   \n",
       "freq        2268      1859         2631       2138        2519      2420   \n",
       "\n",
       "       House Style Roof Style Exter Qual Exter Cond Foundation Heating QC  \\\n",
       "count         2925       2925       2925       2925       2925       2925   \n",
       "unique           8          6          4          5          6          5   \n",
       "top         1Story      Gable         TA         TA      PConc         Ex   \n",
       "freq          1480       2320       1799       2544       1305       1490   \n",
       "\n",
       "       Central Air Kitchen Qual Functional Paved Drive  \n",
       "count         2925         2925       2925        2925  \n",
       "unique           2            5          8           3  \n",
       "top              Y           TA        Typ           Y  \n",
       "freq          2729         1494       2723        2647  "
      ]
     },
     "execution_count": 17,
     "metadata": {},
     "output_type": "execute_result"
    }
   ],
   "source": [
    "transform_cat_cols = []\n",
    "for column in cat_cols:\n",
    "    if column in test_df.columns:\n",
    "        transform_cat_cols.append(column)\n",
    "cat_stats = test_df[transform_cat_cols].describe()\n",
    "unique_stats = cat_stats.loc['unique']\n",
    "\n",
    "# Only select categorical columns with <= 10 unique values\n",
    "test_df = test_df.drop(unique_stats[unique_stats > 10].index,axis=1)\n",
    "\n",
    "# Get rid of any categorical columns where the most frequent value is more than 95% of the total\n",
    "top_percent_of_total = cat_stats.loc['freq']/cat_stats.loc['count']\n",
    "test_df = test_df.drop(top_percent_of_total[top_percent_of_total > .95].index,axis=1)\n",
    "\n",
    "test_df.describe(include=['object'])"
   ]
  },
  {
   "cell_type": "markdown",
   "metadata": {},
   "source": [
    "Now we need to transform these into categorical columns and then create dummy columns."
   ]
  },
  {
   "cell_type": "code",
   "execution_count": 18,
   "metadata": {
    "collapsed": true
   },
   "outputs": [],
   "source": [
    "# Convert to category columns\n",
    "text_cols = test_df.select_dtypes(include=['object'])\n",
    "for col in text_cols:\n",
    "    test_df[col] = test_df[col].astype('category')\n",
    "test_df = pd.concat([test_df,pd.get_dummies(test_df.select_dtypes(include=['category']))],axis=1)"
   ]
  },
  {
   "cell_type": "markdown",
   "metadata": {},
   "source": [
    "Our dataframe now has a good set of useable features in numeric format.\n",
    "\n",
    "Let's update our select_features function:"
   ]
  },
  {
   "cell_type": "code",
   "execution_count": 19,
   "metadata": {},
   "outputs": [
    {
     "name": "stdout",
     "output_type": "stream",
     "text": [
      "26616.1191074\n"
     ]
    }
   ],
   "source": [
    "def select_features(df,correlation_threshold=0.4,uniqueness_threshold=10):\n",
    "    # Drop features that are highly correlated with other features\n",
    "    df = df.drop(['Garage Cars', 'Total Bsmt SF', 'TotRms AbvGrd'],axis=1)\n",
    "    \n",
    "    num_df = df.select_dtypes(include=['float','integer'])\n",
    "    correlations = num_df.corr()['SalePrice'].abs().sort_values()\n",
    "    # Drop numerical columns with \"SalePrice\" correlation < our threshold.\n",
    "    df = df.drop(correlations[correlations < correlation_threshold].index,axis=1)\n",
    "    \n",
    "    # Select categorical columns.\n",
    "    nominal_cols = [\"PID\",\"MS SubClass\",\"MS Zoning\",\"Street\",\"Alley\",\"Land Contour\",\"Lot Config\",\"Neighborhood\",\"Condition 1\",\"Condition 2\",\"Bldg Type\",\"House Style\",\"Roof Style\",\"Roof Matl\",\"Exterior 1st\",\"Exterior 2nd\",\"Mas Vnr Type\",\"Foundation\",\"Heating\",\"Central Air\",\"Garage Type\",\"Misc Feature\",\"Sale Type\"]\n",
    "    ordinal_cols = [\"Lot Shape\",\"Utilities\",\"Land Slope\",\"Exter Qual\",\"Exter Cond\",\"Bsmt Qual\",\"Bsmt Cond\",\"Bsmt Exposure\",\"BsmtFin Type 1\",\"BsmtFin Type 2\",\"Heating QC\",\"Electrical\",\"Kitchen Qual\",\"Functional\",\"Fireplace Qu\",\"Garage Finish\",\"Garage Qual\",\"Garage Cond\",\"Paved Drive\",\"Pool QC\",\"Fence\",\"Sale Condition\"]\n",
    "    cat_cols = nominal_cols + ordinal_cols\n",
    "    \n",
    "    # Transform categorical columns.\n",
    "    transform_cat_cols = []\n",
    "    for column in cat_cols:\n",
    "        if column in df.columns:\n",
    "            transform_cat_cols.append(column)\n",
    "    cat_stats = df[transform_cat_cols].describe()\n",
    "    unique_stats = cat_stats.loc['unique']\n",
    "\n",
    "    # Drop categorical columns with more unique values than our threshold\n",
    "    df = df.drop(unique_stats[unique_stats > uniqueness_threshold].index,axis=1)\n",
    "\n",
    "    # Get rid of any categorical columns where the most frequent value is more than 95% of the total\n",
    "    top_percent_of_total = cat_stats.loc['freq']/cat_stats.loc['count']\n",
    "    df = df.drop(top_percent_of_total[top_percent_of_total > .95].index,axis=1)\n",
    "    \n",
    "    # Convert to category columns and create dummy columns\n",
    "    text_cols = df.select_dtypes(include=['object'])\n",
    "    for col in text_cols:\n",
    "        df[col] = df[col].astype('category')\n",
    "    df = pd.concat([df,pd.get_dummies(df.select_dtypes(include=['category']))],axis=1)\n",
    "    \n",
    "    \n",
    "    return df\n",
    "\n",
    "transformed_data = transform_features(data)\n",
    "filtered_data = select_features(transformed_data)\n",
    "rmse = train_and_test(filtered_data)\n",
    "print(rmse)"
   ]
  },
  {
   "cell_type": "markdown",
   "metadata": {},
   "source": [
    "### Train and Test\n",
    "\n",
    "We'll update the 'train_and_test' function to do arbitrary k-fold validation."
   ]
  },
  {
   "cell_type": "code",
   "execution_count": 20,
   "metadata": {},
   "outputs": [
    {
     "name": "stdout",
     "output_type": "stream",
     "text": [
      "25684.4906489\n"
     ]
    }
   ],
   "source": [
    "from sklearn.model_selection import KFold\n",
    "\n",
    "def train_and_test(df,k=0):\n",
    "    numeric_df = df.select_dtypes(include=['integer','float'])\n",
    "    features = numeric_df.columns.drop('SalePrice')\n",
    "    lr = LinearRegression()\n",
    "    \n",
    "    if k == 0:\n",
    "        #split data into train and test\n",
    "        train = numeric_df[:1460]\n",
    "        test = numeric_df[1460:]\n",
    "\n",
    "        #fit model to train data and test\n",
    "        lr.fit(train[features],train['SalePrice'])\n",
    "        predictions = lr.predict(test[features])\n",
    "        mse = mean_squared_error(test['SalePrice'],predictions)\n",
    "        rmse = np.sqrt(np.absolute(mse))\n",
    "\n",
    "        return rmse\n",
    "    \n",
    "    if k == 1:\n",
    "        # Randomize and split dataset\n",
    "        numeric_df = numeric_df.reindex(np.random.permutation(numeric_df.index))\n",
    "        fold_one = numeric_df[:1460]\n",
    "        fold_two = numeric_df[1460:]\n",
    "        \n",
    "        # Train on 1 test on 2\n",
    "        lr.fit(fold_one[features],fold_one['SalePrice'])\n",
    "        predictions = lr.predict(fold_two[features])\n",
    "        rmse_one = np.sqrt(mean_squared_error(fold_two['SalePrice'],predictions))\n",
    "        \n",
    "        # Train on 2 test on 1\n",
    "        lr.fit(fold_two[features],fold_two['SalePrice'])\n",
    "        predictions = lr.predict(fold_one[features])\n",
    "        rmse_two = np.sqrt(mean_squared_error(fold_one['SalePrice'],predictions))\n",
    "        \n",
    "        #Average\n",
    "        return (rmse_one + rmse_two) / 2\n",
    "    \n",
    "    # For k > 1\n",
    "    kf = KFold(n_splits=k, shuffle=True)\n",
    "    rmse_list = []\n",
    "    # Iterate over all splits gathering train/test errors\n",
    "    for train_index, test_index, in kf.split(numeric_df):\n",
    "        train = numeric_df.iloc[train_index]\n",
    "        test = numeric_df.iloc[test_index]\n",
    "        lr.fit(train[features],train['SalePrice'])\n",
    "        predictions = lr.predict(test[features])\n",
    "        rmse = np.sqrt(mean_squared_error(test['SalePrice'],predictions))\n",
    "        rmse_list.append(rmse)        \n",
    "    # Return average of errors\n",
    "    return np.mean(rmse_list)\n",
    "        \n",
    "\n",
    "transformed_data = transform_features(data)\n",
    "filtered_data = select_features(transformed_data)\n",
    "rmse = train_and_test(filtered_data,10)\n",
    "print(rmse)"
   ]
  },
  {
   "cell_type": "code",
   "execution_count": 21,
   "metadata": {},
   "outputs": [
    {
     "name": "stdout",
     "output_type": "stream",
     "text": [
      "10 25800.5176482\n",
      "11 25639.542285\n",
      "12 25707.1694576\n",
      "13 25686.6307415\n",
      "14 25625.5825088\n",
      "15 25661.4729778\n",
      "16 25558.8250078\n",
      "17 25740.4180459\n",
      "18 25623.9980346\n",
      "19 25549.0574575\n",
      "20 25468.8411285\n"
     ]
    }
   ],
   "source": [
    "for k in range(10,21,1):\n",
    "    f_data = select_features(transformed_data,correlation_threshold = .4,uniqueness_threshold = k)\n",
    "    print(k,train_and_test(f_data,k))"
   ]
  },
  {
   "cell_type": "markdown",
   "metadata": {},
   "source": [
    "### Further Feature Engineering\n",
    "\n",
    "Some ideas for new features:\n",
    "    - Season Sold\n",
    "    - Day of Week Sold\n",
    "    \n",
    "Simplify existing features (e.g. 1-10 scale to 1-3 scale)\n",
    "Combine existing features (Overall Grade = Qual * Condition, total bathrooms)\n",
    "Polynomials (2,3,sq) on top features (10)\n",
    "    \n",
    "    "
   ]
  },
  {
   "cell_type": "markdown",
   "metadata": {},
   "source": [
    "## Improve feature selection:\n",
    "\n",
    "Research ways of doing feature selection better with categorical columns.\n",
    "\n",
    "- Automatic Feature Selection like RFE\n",
    "- "
   ]
  },
  {
   "cell_type": "code",
   "execution_count": null,
   "metadata": {
    "collapsed": true
   },
   "outputs": [],
   "source": []
  }
 ],
 "metadata": {
  "anaconda-cloud": {},
  "kernelspec": {
   "display_name": "Python 3",
   "language": "python",
   "name": "python3"
  },
  "language_info": {
   "codemirror_mode": {
    "name": "ipython",
    "version": 3
   },
   "file_extension": ".py",
   "mimetype": "text/x-python",
   "name": "python",
   "nbconvert_exporter": "python",
   "pygments_lexer": "ipython3",
   "version": "3.6.1"
  }
 },
 "nbformat": 4,
 "nbformat_minor": 2
}
