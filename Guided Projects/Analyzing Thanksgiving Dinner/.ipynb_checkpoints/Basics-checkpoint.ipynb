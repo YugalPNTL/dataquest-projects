{
 "cells": [
  {
   "cell_type": "markdown",
   "metadata": {},
   "source": [
    "# Exploring Thanksgiving"
   ]
  },
  {
   "cell_type": "code",
   "execution_count": 2,
   "metadata": {
    "collapsed": false
   },
   "outputs": [
    {
     "data": {
      "text/html": [
       "<div>\n",
       "<table border=\"1\" class=\"dataframe\">\n",
       "  <thead>\n",
       "    <tr style=\"text-align: right;\">\n",
       "      <th></th>\n",
       "      <th>RespondentID</th>\n",
       "      <th>Do you celebrate Thanksgiving?</th>\n",
       "      <th>What is typically the main dish at your Thanksgiving dinner?</th>\n",
       "      <th>What is typically the main dish at your Thanksgiving dinner? - Other (please specify)</th>\n",
       "      <th>How is the main dish typically cooked?</th>\n",
       "      <th>How is the main dish typically cooked? - Other (please specify)</th>\n",
       "      <th>What kind of stuffing/dressing do you typically have?</th>\n",
       "      <th>What kind of stuffing/dressing do you typically have? - Other (please specify)</th>\n",
       "      <th>What type of cranberry saucedo you typically have?</th>\n",
       "      <th>What type of cranberry saucedo you typically have? - Other (please specify)</th>\n",
       "      <th>...</th>\n",
       "      <th>Have you ever tried to meet up with hometown friends on Thanksgiving night?</th>\n",
       "      <th>Have you ever attended a \"Friendsgiving?\"</th>\n",
       "      <th>Will you shop any Black Friday sales on Thanksgiving Day?</th>\n",
       "      <th>Do you work in retail?</th>\n",
       "      <th>Will you employer make you work on Black Friday?</th>\n",
       "      <th>How would you describe where you live?</th>\n",
       "      <th>Age</th>\n",
       "      <th>What is your gender?</th>\n",
       "      <th>How much total combined money did all members of your HOUSEHOLD earn last year?</th>\n",
       "      <th>US Region</th>\n",
       "    </tr>\n",
       "  </thead>\n",
       "  <tbody>\n",
       "    <tr>\n",
       "      <th>0</th>\n",
       "      <td>4337954960</td>\n",
       "      <td>Yes</td>\n",
       "      <td>Turkey</td>\n",
       "      <td>NaN</td>\n",
       "      <td>Baked</td>\n",
       "      <td>NaN</td>\n",
       "      <td>Bread-based</td>\n",
       "      <td>NaN</td>\n",
       "      <td>None</td>\n",
       "      <td>NaN</td>\n",
       "      <td>...</td>\n",
       "      <td>Yes</td>\n",
       "      <td>No</td>\n",
       "      <td>No</td>\n",
       "      <td>No</td>\n",
       "      <td>NaN</td>\n",
       "      <td>Suburban</td>\n",
       "      <td>18 - 29</td>\n",
       "      <td>Male</td>\n",
       "      <td>$75,000 to $99,999</td>\n",
       "      <td>Middle Atlantic</td>\n",
       "    </tr>\n",
       "    <tr>\n",
       "      <th>1</th>\n",
       "      <td>4337951949</td>\n",
       "      <td>Yes</td>\n",
       "      <td>Turkey</td>\n",
       "      <td>NaN</td>\n",
       "      <td>Baked</td>\n",
       "      <td>NaN</td>\n",
       "      <td>Bread-based</td>\n",
       "      <td>NaN</td>\n",
       "      <td>Other (please specify)</td>\n",
       "      <td>Homemade cranberry gelatin ring</td>\n",
       "      <td>...</td>\n",
       "      <td>No</td>\n",
       "      <td>No</td>\n",
       "      <td>Yes</td>\n",
       "      <td>No</td>\n",
       "      <td>NaN</td>\n",
       "      <td>Rural</td>\n",
       "      <td>18 - 29</td>\n",
       "      <td>Female</td>\n",
       "      <td>$50,000 to $74,999</td>\n",
       "      <td>East South Central</td>\n",
       "    </tr>\n",
       "    <tr>\n",
       "      <th>2</th>\n",
       "      <td>4337935621</td>\n",
       "      <td>Yes</td>\n",
       "      <td>Turkey</td>\n",
       "      <td>NaN</td>\n",
       "      <td>Roasted</td>\n",
       "      <td>NaN</td>\n",
       "      <td>Rice-based</td>\n",
       "      <td>NaN</td>\n",
       "      <td>Homemade</td>\n",
       "      <td>NaN</td>\n",
       "      <td>...</td>\n",
       "      <td>Yes</td>\n",
       "      <td>Yes</td>\n",
       "      <td>Yes</td>\n",
       "      <td>No</td>\n",
       "      <td>NaN</td>\n",
       "      <td>Suburban</td>\n",
       "      <td>18 - 29</td>\n",
       "      <td>Male</td>\n",
       "      <td>$0 to $9,999</td>\n",
       "      <td>Mountain</td>\n",
       "    </tr>\n",
       "    <tr>\n",
       "      <th>3</th>\n",
       "      <td>4337933040</td>\n",
       "      <td>Yes</td>\n",
       "      <td>Turkey</td>\n",
       "      <td>NaN</td>\n",
       "      <td>Baked</td>\n",
       "      <td>NaN</td>\n",
       "      <td>Bread-based</td>\n",
       "      <td>NaN</td>\n",
       "      <td>Homemade</td>\n",
       "      <td>NaN</td>\n",
       "      <td>...</td>\n",
       "      <td>Yes</td>\n",
       "      <td>No</td>\n",
       "      <td>No</td>\n",
       "      <td>No</td>\n",
       "      <td>NaN</td>\n",
       "      <td>Urban</td>\n",
       "      <td>30 - 44</td>\n",
       "      <td>Male</td>\n",
       "      <td>$200,000 and up</td>\n",
       "      <td>Pacific</td>\n",
       "    </tr>\n",
       "    <tr>\n",
       "      <th>4</th>\n",
       "      <td>4337931983</td>\n",
       "      <td>Yes</td>\n",
       "      <td>Tofurkey</td>\n",
       "      <td>NaN</td>\n",
       "      <td>Baked</td>\n",
       "      <td>NaN</td>\n",
       "      <td>Bread-based</td>\n",
       "      <td>NaN</td>\n",
       "      <td>Canned</td>\n",
       "      <td>NaN</td>\n",
       "      <td>...</td>\n",
       "      <td>Yes</td>\n",
       "      <td>No</td>\n",
       "      <td>No</td>\n",
       "      <td>No</td>\n",
       "      <td>NaN</td>\n",
       "      <td>Urban</td>\n",
       "      <td>30 - 44</td>\n",
       "      <td>Male</td>\n",
       "      <td>$100,000 to $124,999</td>\n",
       "      <td>Pacific</td>\n",
       "    </tr>\n",
       "  </tbody>\n",
       "</table>\n",
       "<p>5 rows × 65 columns</p>\n",
       "</div>"
      ],
      "text/plain": [
       "   RespondentID Do you celebrate Thanksgiving?  \\\n",
       "0    4337954960                            Yes   \n",
       "1    4337951949                            Yes   \n",
       "2    4337935621                            Yes   \n",
       "3    4337933040                            Yes   \n",
       "4    4337931983                            Yes   \n",
       "\n",
       "  What is typically the main dish at your Thanksgiving dinner?  \\\n",
       "0                                             Turkey             \n",
       "1                                             Turkey             \n",
       "2                                             Turkey             \n",
       "3                                             Turkey             \n",
       "4                                           Tofurkey             \n",
       "\n",
       "  What is typically the main dish at your Thanksgiving dinner? - Other (please specify)  \\\n",
       "0                                                NaN                                      \n",
       "1                                                NaN                                      \n",
       "2                                                NaN                                      \n",
       "3                                                NaN                                      \n",
       "4                                                NaN                                      \n",
       "\n",
       "  How is the main dish typically cooked?  \\\n",
       "0                                  Baked   \n",
       "1                                  Baked   \n",
       "2                                Roasted   \n",
       "3                                  Baked   \n",
       "4                                  Baked   \n",
       "\n",
       "  How is the main dish typically cooked? - Other (please specify)  \\\n",
       "0                                                NaN                \n",
       "1                                                NaN                \n",
       "2                                                NaN                \n",
       "3                                                NaN                \n",
       "4                                                NaN                \n",
       "\n",
       "  What kind of stuffing/dressing do you typically have?  \\\n",
       "0                                        Bread-based      \n",
       "1                                        Bread-based      \n",
       "2                                         Rice-based      \n",
       "3                                        Bread-based      \n",
       "4                                        Bread-based      \n",
       "\n",
       "  What kind of stuffing/dressing do you typically have? - Other (please specify)  \\\n",
       "0                                                NaN                               \n",
       "1                                                NaN                               \n",
       "2                                                NaN                               \n",
       "3                                                NaN                               \n",
       "4                                                NaN                               \n",
       "\n",
       "  What type of cranberry saucedo you typically have?  \\\n",
       "0                                               None   \n",
       "1                             Other (please specify)   \n",
       "2                                           Homemade   \n",
       "3                                           Homemade   \n",
       "4                                             Canned   \n",
       "\n",
       "  What type of cranberry saucedo you typically have? - Other (please specify)  \\\n",
       "0                                                NaN                            \n",
       "1                    Homemade cranberry gelatin ring                            \n",
       "2                                                NaN                            \n",
       "3                                                NaN                            \n",
       "4                                                NaN                            \n",
       "\n",
       "          ...          \\\n",
       "0         ...           \n",
       "1         ...           \n",
       "2         ...           \n",
       "3         ...           \n",
       "4         ...           \n",
       "\n",
       "  Have you ever tried to meet up with hometown friends on Thanksgiving night?  \\\n",
       "0                                                Yes                            \n",
       "1                                                 No                            \n",
       "2                                                Yes                            \n",
       "3                                                Yes                            \n",
       "4                                                Yes                            \n",
       "\n",
       "  Have you ever attended a \"Friendsgiving?\"  \\\n",
       "0                                        No   \n",
       "1                                        No   \n",
       "2                                       Yes   \n",
       "3                                        No   \n",
       "4                                        No   \n",
       "\n",
       "  Will you shop any Black Friday sales on Thanksgiving Day?  \\\n",
       "0                                                 No          \n",
       "1                                                Yes          \n",
       "2                                                Yes          \n",
       "3                                                 No          \n",
       "4                                                 No          \n",
       "\n",
       "  Do you work in retail? Will you employer make you work on Black Friday?  \\\n",
       "0                     No                                              NaN   \n",
       "1                     No                                              NaN   \n",
       "2                     No                                              NaN   \n",
       "3                     No                                              NaN   \n",
       "4                     No                                              NaN   \n",
       "\n",
       "  How would you describe where you live?      Age What is your gender?  \\\n",
       "0                               Suburban  18 - 29                 Male   \n",
       "1                                  Rural  18 - 29               Female   \n",
       "2                               Suburban  18 - 29                 Male   \n",
       "3                                  Urban  30 - 44                 Male   \n",
       "4                                  Urban  30 - 44                 Male   \n",
       "\n",
       "  How much total combined money did all members of your HOUSEHOLD earn last year?  \\\n",
       "0                                 $75,000 to $99,999                                \n",
       "1                                 $50,000 to $74,999                                \n",
       "2                                       $0 to $9,999                                \n",
       "3                                    $200,000 and up                                \n",
       "4                               $100,000 to $124,999                                \n",
       "\n",
       "            US Region  \n",
       "0     Middle Atlantic  \n",
       "1  East South Central  \n",
       "2            Mountain  \n",
       "3             Pacific  \n",
       "4             Pacific  \n",
       "\n",
       "[5 rows x 65 columns]"
      ]
     },
     "execution_count": 2,
     "metadata": {},
     "output_type": "execute_result"
    }
   ],
   "source": [
    "import pandas as pd\n",
    "data = pd.read_csv(\"thanksgiving.csv\",encoding=\"Latin-1\")\n",
    "data[0:5]\n",
    "\n"
   ]
  },
  {
   "cell_type": "code",
   "execution_count": 3,
   "metadata": {
    "collapsed": false
   },
   "outputs": [
    {
     "data": {
      "text/plain": [
       "Index(['RespondentID', 'Do you celebrate Thanksgiving?',\n",
       "       'What is typically the main dish at your Thanksgiving dinner?',\n",
       "       'What is typically the main dish at your Thanksgiving dinner? - Other (please specify)',\n",
       "       'How is the main dish typically cooked?',\n",
       "       'How is the main dish typically cooked? - Other (please specify)',\n",
       "       'What kind of stuffing/dressing do you typically have?',\n",
       "       'What kind of stuffing/dressing do you typically have? - Other (please specify)',\n",
       "       'What type of cranberry saucedo you typically have?',\n",
       "       'What type of cranberry saucedo you typically have? - Other (please specify)',\n",
       "       'Do you typically have gravy?',\n",
       "       'Which of these side dishes aretypically served at your Thanksgiving dinner? Please select all that apply. - Brussel sprouts',\n",
       "       'Which of these side dishes aretypically served at your Thanksgiving dinner? Please select all that apply. - Carrots',\n",
       "       'Which of these side dishes aretypically served at your Thanksgiving dinner? Please select all that apply. - Cauliflower',\n",
       "       'Which of these side dishes aretypically served at your Thanksgiving dinner? Please select all that apply. - Corn',\n",
       "       'Which of these side dishes aretypically served at your Thanksgiving dinner? Please select all that apply. - Cornbread',\n",
       "       'Which of these side dishes aretypically served at your Thanksgiving dinner? Please select all that apply. - Fruit salad',\n",
       "       'Which of these side dishes aretypically served at your Thanksgiving dinner? Please select all that apply. - Green beans/green bean casserole',\n",
       "       'Which of these side dishes aretypically served at your Thanksgiving dinner? Please select all that apply. - Macaroni and cheese',\n",
       "       'Which of these side dishes aretypically served at your Thanksgiving dinner? Please select all that apply. - Mashed potatoes',\n",
       "       'Which of these side dishes aretypically served at your Thanksgiving dinner? Please select all that apply. - Rolls/biscuits',\n",
       "       'Which of these side dishes aretypically served at your Thanksgiving dinner? Please select all that apply. - Squash',\n",
       "       'Which of these side dishes aretypically served at your Thanksgiving dinner? Please select all that apply. - Vegetable salad',\n",
       "       'Which of these side dishes aretypically served at your Thanksgiving dinner? Please select all that apply. - Yams/sweet potato casserole',\n",
       "       'Which of these side dishes aretypically served at your Thanksgiving dinner? Please select all that apply. - Other (please specify)',\n",
       "       'Which of these side dishes aretypically served at your Thanksgiving dinner? Please select all that apply. - Other (please specify).1',\n",
       "       'Which type of pie is typically served at your Thanksgiving dinner? Please select all that apply. - Apple',\n",
       "       'Which type of pie is typically served at your Thanksgiving dinner? Please select all that apply. - Buttermilk',\n",
       "       'Which type of pie is typically served at your Thanksgiving dinner? Please select all that apply. - Cherry',\n",
       "       'Which type of pie is typically served at your Thanksgiving dinner? Please select all that apply. - Chocolate',\n",
       "       'Which type of pie is typically served at your Thanksgiving dinner? Please select all that apply. - Coconut cream',\n",
       "       'Which type of pie is typically served at your Thanksgiving dinner? Please select all that apply. - Key lime',\n",
       "       'Which type of pie is typically served at your Thanksgiving dinner? Please select all that apply. - Peach',\n",
       "       'Which type of pie is typically served at your Thanksgiving dinner? Please select all that apply. - Pecan',\n",
       "       'Which type of pie is typically served at your Thanksgiving dinner? Please select all that apply. - Pumpkin',\n",
       "       'Which type of pie is typically served at your Thanksgiving dinner? Please select all that apply. - Sweet Potato',\n",
       "       'Which type of pie is typically served at your Thanksgiving dinner? Please select all that apply. - None',\n",
       "       'Which type of pie is typically served at your Thanksgiving dinner? Please select all that apply. - Other (please specify)',\n",
       "       'Which type of pie is typically served at your Thanksgiving dinner? Please select all that apply. - Other (please specify).1',\n",
       "       'Which of these desserts do you typically have at Thanksgiving dinner? Please select all that apply.   - Apple cobbler',\n",
       "       'Which of these desserts do you typically have at Thanksgiving dinner? Please select all that apply.   - Blondies',\n",
       "       'Which of these desserts do you typically have at Thanksgiving dinner? Please select all that apply.   - Brownies',\n",
       "       'Which of these desserts do you typically have at Thanksgiving dinner? Please select all that apply.   - Carrot cake',\n",
       "       'Which of these desserts do you typically have at Thanksgiving dinner? Please select all that apply.   - Cheesecake',\n",
       "       'Which of these desserts do you typically have at Thanksgiving dinner? Please select all that apply.   - Cookies',\n",
       "       'Which of these desserts do you typically have at Thanksgiving dinner? Please select all that apply.   - Fudge',\n",
       "       'Which of these desserts do you typically have at Thanksgiving dinner? Please select all that apply.   - Ice cream',\n",
       "       'Which of these desserts do you typically have at Thanksgiving dinner? Please select all that apply.   - Peach cobbler',\n",
       "       'Which of these desserts do you typically have at Thanksgiving dinner? Please select all that apply.   - None',\n",
       "       'Which of these desserts do you typically have at Thanksgiving dinner? Please select all that apply.   - Other (please specify)',\n",
       "       'Which of these desserts do you typically have at Thanksgiving dinner? Please select all that apply.   - Other (please specify).1',\n",
       "       'Do you typically pray before or after the Thanksgiving meal?',\n",
       "       'How far will you travel for Thanksgiving?',\n",
       "       'Will you watch any of the following programs on Thanksgiving? Please select all that apply. - Macy's Parade',\n",
       "       'What's the age cutoff at your \"kids' table\" at Thanksgiving?',\n",
       "       'Have you ever tried to meet up with hometown friends on Thanksgiving night?',\n",
       "       'Have you ever attended a \"Friendsgiving?\"',\n",
       "       'Will you shop any Black Friday sales on Thanksgiving Day?',\n",
       "       'Do you work in retail?',\n",
       "       'Will you employer make you work on Black Friday?',\n",
       "       'How would you describe where you live?', 'Age', 'What is your gender?',\n",
       "       'How much total combined money did all members of your HOUSEHOLD earn last year?',\n",
       "       'US Region'],\n",
       "      dtype='object')"
      ]
     },
     "execution_count": 3,
     "metadata": {},
     "output_type": "execute_result"
    }
   ],
   "source": [
    "data.columns"
   ]
  },
  {
   "cell_type": "markdown",
   "metadata": {},
   "source": [
    "## Filter out non-celebraters"
   ]
  },
  {
   "cell_type": "code",
   "execution_count": 4,
   "metadata": {
    "collapsed": false
   },
   "outputs": [
    {
     "data": {
      "text/plain": [
       "Yes    980\n",
       "No      78\n",
       "Name: Do you celebrate Thanksgiving?, dtype: int64"
      ]
     },
     "execution_count": 4,
     "metadata": {},
     "output_type": "execute_result"
    }
   ],
   "source": [
    "data[\"Do you celebrate Thanksgiving?\"].value_counts()"
   ]
  },
  {
   "cell_type": "code",
   "execution_count": 5,
   "metadata": {
    "collapsed": false
   },
   "outputs": [
    {
     "data": {
      "text/plain": [
       "Yes    980\n",
       "Name: Do you celebrate Thanksgiving?, dtype: int64"
      ]
     },
     "execution_count": 5,
     "metadata": {},
     "output_type": "execute_result"
    }
   ],
   "source": [
    "data = data[data[\"Do you celebrate Thanksgiving?\"] == \"Yes\"]\n",
    "data[\"Do you celebrate Thanksgiving?\"].value_counts()"
   ]
  },
  {
   "cell_type": "markdown",
   "metadata": {},
   "source": [
    "## Explore Main Dishes"
   ]
  },
  {
   "cell_type": "code",
   "execution_count": 6,
   "metadata": {
    "collapsed": false
   },
   "outputs": [
    {
     "data": {
      "text/plain": [
       "Turkey                    859\n",
       "Other (please specify)     35\n",
       "Ham/Pork                   29\n",
       "Tofurkey                   20\n",
       "Chicken                    12\n",
       "Roast beef                 11\n",
       "I don't know                5\n",
       "Turducken                   3\n",
       "Name: What is typically the main dish at your Thanksgiving dinner?, dtype: int64"
      ]
     },
     "execution_count": 6,
     "metadata": {},
     "output_type": "execute_result"
    }
   ],
   "source": [
    "data[\"What is typically the main dish at your Thanksgiving dinner?\"].value_counts()"
   ]
  },
  {
   "cell_type": "code",
   "execution_count": 7,
   "metadata": {
    "collapsed": false
   },
   "outputs": [
    {
     "data": {
      "text/plain": [
       "4      Yes\n",
       "33     Yes\n",
       "69      No\n",
       "72      No\n",
       "77     Yes\n",
       "145    Yes\n",
       "175    Yes\n",
       "218     No\n",
       "243    Yes\n",
       "275     No\n",
       "393    Yes\n",
       "399    Yes\n",
       "571    Yes\n",
       "594    Yes\n",
       "628     No\n",
       "774     No\n",
       "820     No\n",
       "837    Yes\n",
       "860     No\n",
       "953    Yes\n",
       "Name: Do you typically have gravy?, dtype: object"
      ]
     },
     "execution_count": 7,
     "metadata": {},
     "output_type": "execute_result"
    }
   ],
   "source": [
    "data[data[\"What is typically the main dish at your Thanksgiving dinner?\"] == \"Tofurkey\"][\"Do you typically have gravy?\"]"
   ]
  },
  {
   "cell_type": "markdown",
   "metadata": {},
   "source": [
    "## Exploring Pies"
   ]
  },
  {
   "cell_type": "code",
   "execution_count": 8,
   "metadata": {
    "collapsed": false
   },
   "outputs": [
    {
     "data": {
      "text/plain": [
       "Apple    514\n",
       "Name: Which type of pie is typically served at your Thanksgiving dinner? Please select all that apply. - Apple, dtype: int64"
      ]
     },
     "execution_count": 8,
     "metadata": {},
     "output_type": "execute_result"
    }
   ],
   "source": [
    "data[\"Which type of pie is typically served at your Thanksgiving dinner? Please select all that apply. - Apple\"].value_counts()"
   ]
  },
  {
   "cell_type": "code",
   "execution_count": 52,
   "metadata": {
    "collapsed": false
   },
   "outputs": [
    {
     "data": {
      "text/plain": [
       "True     876\n",
       "False    104\n",
       "dtype: int64"
      ]
     },
     "execution_count": 52,
     "metadata": {},
     "output_type": "execute_result"
    }
   ],
   "source": [
    "apple_isnull = data[\"Which type of pie is typically served at your Thanksgiving dinner? Please select all that apply. - Apple\"].isnull()\n",
    "pumpkin_isnull = data[\"Which type of pie is typically served at your Thanksgiving dinner? Please select all that apply. - Pumpkin\"].isnull()\n",
    "pecan_isnull = data[\"Which type of pie is typically served at your Thanksgiving dinner? Please select all that apply. - Pecan\"].isnull()\n",
    "ate_pies = apple_isnull & pumpkin_isnull & pecan_isnull\n",
    "ate_pies = (ate_pies == False)\n",
    "data['ate_pies'] = ate_pies\n",
    "ate_pies.value_counts()"
   ]
  },
  {
   "cell_type": "markdown",
   "metadata": {},
   "source": [
    "## Looking at Age"
   ]
  },
  {
   "cell_type": "code",
   "execution_count": 10,
   "metadata": {
    "collapsed": false
   },
   "outputs": [
    {
     "data": {
      "text/plain": [
       "count    947.000000\n",
       "mean      40.089757\n",
       "std       15.352014\n",
       "min       18.000000\n",
       "25%       30.000000\n",
       "50%       45.000000\n",
       "75%       60.000000\n",
       "max       60.000000\n",
       "Name: int_age, dtype: float64"
      ]
     },
     "execution_count": 10,
     "metadata": {},
     "output_type": "execute_result"
    }
   ],
   "source": [
    "def convert_to_int(s):\n",
    "    if pd.isnull(s):\n",
    "        return None\n",
    "    s = s.split(' ')[0]\n",
    "    s = s.replace('+','')\n",
    "    return int(s)\n",
    "\n",
    "data[\"int_age\"] = data[\"Age\"].apply(convert_to_int)\n",
    "data[\"int_age\"].describe()"
   ]
  },
  {
   "cell_type": "markdown",
   "metadata": {},
   "source": [
    "## Findings\n",
    "\n",
    "Looks like age groups of participants are fairly evenly distributed, even though the summary statistics should skew low because we only took the lower bound of the age groups."
   ]
  },
  {
   "cell_type": "code",
   "execution_count": 11,
   "metadata": {
    "collapsed": false
   },
   "outputs": [
    {
     "data": {
      "text/plain": [
       "count       829.000000\n",
       "mean      75965.018094\n",
       "std       59068.636748\n",
       "min           0.000000\n",
       "25%       25000.000000\n",
       "50%       75000.000000\n",
       "75%      100000.000000\n",
       "max      200000.000000\n",
       "Name: int_income, dtype: float64"
      ]
     },
     "execution_count": 11,
     "metadata": {},
     "output_type": "execute_result"
    }
   ],
   "source": [
    "def to_income(s):\n",
    "    if pd.isnull(s):\n",
    "        return None\n",
    "    s = s.split()[0]\n",
    "    if s == \"Prefer\":\n",
    "        return None\n",
    "    s = s.replace(',','')\n",
    "    s = s.replace('$','')\n",
    "    return int(s)\n",
    "\n",
    "data[\"int_income\"] = data[\"How much total combined money did all members of your HOUSEHOLD earn last year?\"].apply(to_income)\n",
    "data[\"int_income\"].describe()    "
   ]
  },
  {
   "cell_type": "markdown",
   "metadata": {
    "collapsed": true
   },
   "source": [
    "Due to the fact that we took the lower bound of each income category a participant could select. These income figures skew lower than the real numbers. It does not represent the true income of the participants, but the column can be used to summarize by income bracket."
   ]
  },
  {
   "cell_type": "code",
   "execution_count": 12,
   "metadata": {
    "collapsed": false
   },
   "outputs": [
    {
     "data": {
      "text/plain": [
       "Thanksgiving is happening at my home--I won't travel at all                         281\n",
       "Thanksgiving is local--it will take place in the town I live in                     203\n",
       "Thanksgiving is out of town but not too far--it's a drive of a few hours or less    150\n",
       "Thanksgiving is out of town and far away--I have to drive several hours or fly       55\n",
       "Name: How far will you travel for Thanksgiving?, dtype: int64"
      ]
     },
     "execution_count": 12,
     "metadata": {},
     "output_type": "execute_result"
    }
   ],
   "source": [
    "data[data[\"int_income\"] < 150000][\"How far will you travel for Thanksgiving?\"].value_counts()"
   ]
  },
  {
   "cell_type": "code",
   "execution_count": 13,
   "metadata": {
    "collapsed": false
   },
   "outputs": [
    {
     "data": {
      "text/plain": [
       "Thanksgiving is happening at my home--I won't travel at all                         66\n",
       "Thanksgiving is local--it will take place in the town I live in                     34\n",
       "Thanksgiving is out of town but not too far--it's a drive of a few hours or less    25\n",
       "Thanksgiving is out of town and far away--I have to drive several hours or fly      15\n",
       "Name: How far will you travel for Thanksgiving?, dtype: int64"
      ]
     },
     "execution_count": 13,
     "metadata": {},
     "output_type": "execute_result"
    }
   ],
   "source": [
    "data[data[\"int_income\"] >= 150000 ][\"How far will you travel for Thanksgiving?\"].value_counts()"
   ]
  },
  {
   "cell_type": "markdown",
   "metadata": {},
   "source": [
    "## Findings\n",
    "It looks like accross groups of people above and below the $150,000 mark travel for thanksgiving at similar rates."
   ]
  },
  {
   "cell_type": "code",
   "execution_count": 14,
   "metadata": {
    "collapsed": false
   },
   "outputs": [
    {
     "data": {
      "text/html": [
       "<div>\n",
       "<table border=\"1\" class=\"dataframe\">\n",
       "  <thead>\n",
       "    <tr style=\"text-align: right;\">\n",
       "      <th>Have you ever attended a \"Friendsgiving?\"</th>\n",
       "      <th>No</th>\n",
       "      <th>Yes</th>\n",
       "    </tr>\n",
       "    <tr>\n",
       "      <th>Have you ever tried to meet up with hometown friends on Thanksgiving night?</th>\n",
       "      <th></th>\n",
       "      <th></th>\n",
       "    </tr>\n",
       "  </thead>\n",
       "  <tbody>\n",
       "    <tr>\n",
       "      <th>No</th>\n",
       "      <td>42.283702</td>\n",
       "      <td>37.010526</td>\n",
       "    </tr>\n",
       "    <tr>\n",
       "      <th>Yes</th>\n",
       "      <td>41.475410</td>\n",
       "      <td>33.976744</td>\n",
       "    </tr>\n",
       "  </tbody>\n",
       "</table>\n",
       "</div>"
      ],
      "text/plain": [
       "Have you ever attended a \"Friendsgiving?\"                  No        Yes\n",
       "Have you ever tried to meet up with hometown fr...                      \n",
       "No                                                  42.283702  37.010526\n",
       "Yes                                                 41.475410  33.976744"
      ]
     },
     "execution_count": 14,
     "metadata": {},
     "output_type": "execute_result"
    }
   ],
   "source": [
    "data.pivot_table(index=\"Have you ever tried to meet up with hometown friends on Thanksgiving night?\",columns='Have you ever attended a \"Friendsgiving?\"',values=\"int_age\")"
   ]
  },
  {
   "cell_type": "code",
   "execution_count": 15,
   "metadata": {
    "collapsed": false
   },
   "outputs": [
    {
     "data": {
      "text/html": [
       "<div>\n",
       "<table border=\"1\" class=\"dataframe\">\n",
       "  <thead>\n",
       "    <tr style=\"text-align: right;\">\n",
       "      <th>Have you ever attended a \"Friendsgiving?\"</th>\n",
       "      <th>No</th>\n",
       "      <th>Yes</th>\n",
       "    </tr>\n",
       "    <tr>\n",
       "      <th>Have you ever tried to meet up with hometown friends on Thanksgiving night?</th>\n",
       "      <th></th>\n",
       "      <th></th>\n",
       "    </tr>\n",
       "  </thead>\n",
       "  <tbody>\n",
       "    <tr>\n",
       "      <th>No</th>\n",
       "      <td>78914.549654</td>\n",
       "      <td>72894.736842</td>\n",
       "    </tr>\n",
       "    <tr>\n",
       "      <th>Yes</th>\n",
       "      <td>78750.000000</td>\n",
       "      <td>66019.736842</td>\n",
       "    </tr>\n",
       "  </tbody>\n",
       "</table>\n",
       "</div>"
      ],
      "text/plain": [
       "Have you ever attended a \"Friendsgiving?\"                     No           Yes\n",
       "Have you ever tried to meet up with hometown fr...                            \n",
       "No                                                  78914.549654  72894.736842\n",
       "Yes                                                 78750.000000  66019.736842"
      ]
     },
     "execution_count": 15,
     "metadata": {},
     "output_type": "execute_result"
    }
   ],
   "source": [
    "data.pivot_table(index=\"Have you ever tried to meet up with hometown friends on Thanksgiving night?\",columns='Have you ever attended a \"Friendsgiving?\"',values=\"int_income\")"
   ]
  },
  {
   "cell_type": "markdown",
   "metadata": {},
   "source": [
    "## Findings\n",
    "Meeting up with friends for Thanksgiving and the term \"Friendsgiving\" tends to be more common amount younger and poorer people."
   ]
  },
  {
   "cell_type": "markdown",
   "metadata": {
    "collapsed": true
   },
   "source": [
    "# Most Common Dessert"
   ]
  },
  {
   "cell_type": "code",
   "execution_count": 16,
   "metadata": {
    "collapsed": false
   },
   "outputs": [
    {
     "data": {
      "text/plain": [
       "{'Apple cobbler': 110,\n",
       " 'Blondies': 16,\n",
       " 'Brownies': 128,\n",
       " 'Carrot cake': 72,\n",
       " 'Cheesecake': 191,\n",
       " 'Cookies': 204,\n",
       " 'Fudge': 43,\n",
       " 'Ice cream': 266,\n",
       " 'None': 295,\n",
       " 'Other (please specify)': 134,\n",
       " 'Other (please specify).1': 134,\n",
       " 'Peach cobbler': 103}"
      ]
     },
     "execution_count": 16,
     "metadata": {},
     "output_type": "execute_result"
    }
   ],
   "source": [
    "dessert_counts = {}   \n",
    "for column in data.iloc[:,39:51]:\n",
    "    dessert_name = column[104:]\n",
    "    dessert_counts[dessert_name] = data[column].count()\n",
    "dessert_counts"
   ]
  },
  {
   "cell_type": "markdown",
   "metadata": {},
   "source": [
    "## Findings\n",
    "More people have no dessert than any single particular dessert on the list, but Ice Cream is the most common dessert actually consumed."
   ]
  },
  {
   "cell_type": "markdown",
   "metadata": {},
   "source": [
    "# Most Common Complete Meal"
   ]
  },
  {
   "cell_type": "code",
   "execution_count": 17,
   "metadata": {
    "collapsed": false,
    "scrolled": true
   },
   "outputs": [
    {
     "data": {
      "text/plain": [
       "Baked Turkey with Bread-based stuffing and Canned cranberry sauce and gravy                                                                                    224\n",
       "Roasted Turkey with Bread-based stuffing and Canned cranberry sauce and gravy                                                                                  161\n",
       "Roasted Turkey with Bread-based stuffing and Homemade cranberry sauce and gravy                                                                                106\n",
       "Baked Turkey with Bread-based stuffing and Homemade cranberry sauce and gravy                                                                                   93\n",
       "Baked Turkey with Bread-based stuffing and None cranberry sauce and gravy                                                                                       43\n",
       "Roasted Turkey with Bread-based stuffing and None cranberry sauce and gravy                                                                                     28\n",
       "Fried Turkey with Bread-based stuffing and Canned cranberry sauce and gravy                                                                                     14\n",
       "Roasted Turkey with Bread-based stuffing and Other (please specify) cranberry sauce and gravy                                                                   10\n",
       "Baked Turkey with Bread-based stuffing and Canned cranberry sauce                                                                                               10\n",
       "Fried Turkey with Bread-based stuffing and Homemade cranberry sauce and gravy                                                                                    9\n",
       "Roasted Turkey with Rice-based stuffing and Homemade cranberry sauce and gravy                                                                                   8\n",
       "Baked Turkey with Other (please specify) stuffing and Canned cranberry sauce and gravy                                                                           7\n",
       "Roasted Turkey with Other (please specify) stuffing and Homemade cranberry sauce and gravy                                                                       7\n",
       "Baked Turkey with Rice-based stuffing and Homemade cranberry sauce and gravy                                                                                     7\n",
       "nan nan with nan stuffing and nan cranberry sauce                                                                                                                6\n",
       "Fried Turkey with Bread-based stuffing and None cranberry sauce and gravy                                                                                        6\n",
       "Baked Turkey with Bread-based stuffing and Other (please specify) cranberry sauce and gravy                                                                      6\n",
       "Baked Ham/Pork with Bread-based stuffing and Canned cranberry sauce and gravy                                                                                    6\n",
       "Baked Turkey with None stuffing and Homemade cranberry sauce and gravy                                                                                           6\n",
       "Roasted Turkey with Other (please specify) stuffing and Canned cranberry sauce and gravy                                                                         5\n",
       "Baked Turkey with Rice-based stuffing and Canned cranberry sauce and gravy                                                                                       5\n",
       "Smoked Turkey with Bread-based stuffing and Canned cranberry sauce and gravy                                                                                     5\n",
       "Baked Ham/Pork with Bread-based stuffing and None cranberry sauce and gravy                                                                                      5\n",
       "Baked Turkey with Bread-based stuffing and Homemade cranberry sauce                                                                                              4\n",
       "Baked Turkey with None stuffing and None cranberry sauce and gravy                                                                                               4\n",
       "Baked Turkey with Bread-based stuffing and None cranberry sauce                                                                                                  4\n",
       "Roasted Turkey with Bread-based stuffing and None cranberry sauce                                                                                                4\n",
       "Roasted Ham/Pork with Bread-based stuffing and Canned cranberry sauce and gravy                                                                                  3\n",
       "Roasted Turkey with None stuffing and Homemade cranberry sauce and gravy                                                                                         3\n",
       "I don't know Turkey with Bread-based stuffing and Canned cranberry sauce and gravy                                                                               3\n",
       "                                                                                                                                                              ... \n",
       "Baked Tofurkey with Bread-based stuffing and None cranberry sauce and gravy                                                                                      1\n",
       "Roasted Turkey with None stuffing and Canned cranberry sauce and gravy                                                                                           1\n",
       "Restaurant with various choices. Restaurant with various choices. with Other (please specify) stuffing and Other (please specify) cranberry sauce and gravy      1\n",
       "I don't know I don't know with None stuffing and Homemade cranberry sauce and gravy                                                                              1\n",
       "Roasted Roast beef with None stuffing and Homemade cranberry sauce                                                                                               1\n",
       "Baked Roast beef with Bread-based stuffing and Canned cranberry sauce and gravy                                                                                  1\n",
       "Fried Turkey with None stuffing and Canned cranberry sauce                                                                                                       1\n",
       "Baked Ham/Pork with Bread-based stuffing and Other (please specify) cranberry sauce and gravy                                                                    1\n",
       "baked, grilled, fried Turkey with Bread-based stuffing and Homemade cranberry sauce and gravy                                                                    1\n",
       "Fried Turkey with Other (please specify) stuffing and Canned cranberry sauce and gravy                                                                           1\n",
       "Fried Chicken with Rice-based stuffing and Homemade cranberry sauce and gravy                                                                                    1\n",
       "I don't know I don't know with None stuffing and None cranberry sauce and gravy                                                                                  1\n",
       "Roasted Roast beef with Rice-based stuffing and Homemade cranberry sauce and gravy                                                                               1\n",
       "Roasted Tofurkey with Bread-based stuffing and Homemade cranberry sauce and gravy                                                                                1\n",
       "Baked Tofurkey with Rice-based stuffing and Other (please specify) cranberry sauce                                                                               1\n",
       "Fried I don't know with Bread-based stuffing and Canned cranberry sauce                                                                                          1\n",
       "Fried Turkey with None stuffing and Canned cranberry sauce and gravy                                                                                             1\n",
       "Having a Smoked Turkey this year Turkey with Bread-based stuffing and Homemade cranberry sauce and gravy                                                         1\n",
       "I don't know Ham/Pork with Bread-based stuffing and Canned cranberry sauce                                                                                       1\n",
       "Baked salmon with None stuffing and None cranberry sauce                                                                                                         1\n",
       "Smoked Turkey with Bread-based stuffing and Homemade cranberry sauce and gravy                                                                                   1\n",
       "Roasted Chicken with Bread-based stuffing and None cranberry sauce and gravy                                                                                     1\n",
       "Broiled Steak with Bread-based stuffing and Canned cranberry sauce and gravy                                                                                     1\n",
       "grilled changes every year with None stuffing and Homemade cranberry sauce and gravy                                                                             1\n",
       "I don't know Turkey with Bread-based stuffing and None cranberry sauce                                                                                           1\n",
       "Fried Turkey with Other (please specify) stuffing and None cranberry sauce and gravy                                                                             1\n",
       "Roasted Turkey with Other (please specify) stuffing and Other (please specify) cranberry sauce and gravy                                                         1\n",
       "Roasted Turkey with Rice-based stuffing and Canned cranberry sauce                                                                                               1\n",
       "Smoked  Turkey with Rice-based stuffing and None cranberry sauce and gravy                                                                                       1\n",
       "store smoked Turkey with Other (please specify) stuffing and Canned cranberry sauce and gravy                                                                    1\n",
       "dtype: int64"
      ]
     },
     "execution_count": 17,
     "metadata": {},
     "output_type": "execute_result"
    }
   ],
   "source": [
    "def get_complete_meal(row):\n",
    "    \n",
    "    meal = ''\n",
    "    main = row['What is typically the main dish at your Thanksgiving dinner?']\n",
    "    if main == 'Other (please specify)': main = row['What is typically the main dish at your Thanksgiving dinner? - Other (please specify)']\n",
    "    cooked = row['How is the main dish typically cooked?']\n",
    "    if cooked == 'Other (please specify)': cooked = row['How is the main dish typically cooked? - Other (please specify)']\n",
    "    meal = str(cooked) + ' ' + str(main) \n",
    "    stuffing = row['What kind of stuffing/dressing do you typically have?']\n",
    "    meal += ' with ' + str(stuffing) + ' stuffing'\n",
    "    cranberry = row['What type of cranberry saucedo you typically have?']\n",
    "    meal += ' and ' + str(cranberry) + ' cranberry sauce'\n",
    "    if row['Do you typically have gravy?'] == 'Yes':\n",
    "        meal += ' and gravy'\n",
    "    return meal\n",
    "meals = data.apply(get_complete_meal,axis=1)\n",
    "meals.value_counts()\n"
   ]
  },
  {
   "cell_type": "markdown",
   "metadata": {},
   "source": [
    "The most common meal, not including side dishes, pies, or desserts is: Baked Turkey with Bread-based stuffing, Canned cranberry sauce, and gravy. "
   ]
  },
  {
   "cell_type": "code",
   "execution_count": 18,
   "metadata": {
    "collapsed": false
   },
   "outputs": [
    {
     "data": {
      "text/plain": [
       "nan nan with nan stuffing and nan cranberry sauce Sides:  Pies:  Desserts:                                                                                                                                                                                                                                                                                                                6\n",
       "Roasted Turkey with Bread-based stuffing and Homemade cranberry sauce and gravy Sides:  Pies:  Desserts:                                                                                                                                                                                                                                                                                  3\n",
       "Roasted Turkey with Bread-based stuffing and Homemade cranberry sauce and gravy Sides: Corn Green beans/green bean casserole Mashed potatoes Rolls/biscuits Yams/sweet potato casserole Pies: Pumpkin Desserts: None                                                                                                                                                                      2\n",
       "Roasted Turkey with Bread-based stuffing and Canned cranberry sauce and gravy Sides: Green beans/green bean casserole Mashed potatoes Rolls/biscuits Yams/sweet potato casserole Pies: Pumpkin Desserts: None                                                                                                                                                                             2\n",
       "Baked Turkey with Bread-based stuffing and Canned cranberry sauce and gravy Sides: Corn Green beans/green bean casserole Mashed potatoes Rolls/biscuits Vegetable salad Yams/sweet potato casserole Pies: Apple Pumpkin Desserts: None                                                                                                                                                    2\n",
       "Baked Turkey with Bread-based stuffing and Canned cranberry sauce and gravy Sides: Fruit salad Green beans/green bean casserole Mashed potatoes Rolls/biscuits Yams/sweet potato casserole Pies: Apple Pecan Pumpkin Desserts: None                                                                                                                                                       2\n",
       "Baked Turkey with Bread-based stuffing and Canned cranberry sauce and gravy Sides: Green beans/green bean casserole Mashed potatoes Rolls/biscuits Pies: Pumpkin Desserts: Other (please specify) Other (please specify).1                                                                                                                                                                2\n",
       "Roasted Turkey with Bread-based stuffing and Canned cranberry sauce and gravy Sides: Green beans/green bean casserole Mashed potatoes Rolls/biscuits Pies: Pumpkin Desserts: None                                                                                                                                                                                                         2\n",
       "Roasted Turkey with Bread-based stuffing and Canned cranberry sauce and gravy Sides: Green beans/green bean casserole Macaroni and cheese Mashed potatoes Rolls/biscuits Pies: Pumpkin Desserts: None                                                                                                                                                                                     2\n",
       "Baked Turkey with Bread-based stuffing and Canned cranberry sauce and gravy Sides: Corn Green beans/green bean casserole Mashed potatoes Rolls/biscuits Yams/sweet potato casserole Pies: Pecan Pumpkin Desserts: None                                                                                                                                                                    2\n",
       "Baked Turkey with Bread-based stuffing and Canned cranberry sauce and gravy Sides: Fruit salad Green beans/green bean casserole Mashed potatoes Rolls/biscuits Yams/sweet potato casserole Pies: Apple Pumpkin Desserts: None                                                                                                                                                             2\n",
       "Baked Turkey with Bread-based stuffing and Canned cranberry sauce and gravy Sides: Fruit salad Green beans/green bean casserole Mashed potatoes Rolls/biscuits Vegetable salad Yams/sweet potato casserole Pies: Apple Pumpkin Other (please specify) Desserts: None                                                                                                                      1\n",
       "Smoked Turkey with Bread-based stuffing and Canned cranberry sauce and gravy Sides: Corn Green beans/green bean casserole Mashed potatoes Rolls/biscuits Yams/sweet potato casserole Pies: Apple Pumpkin Desserts: Other (please specify) Other (please specify).1                                                                                                                        1\n",
       "Baked Turkey with Bread-based stuffing and Homemade cranberry sauce and gravy Sides: Corn Green beans/green bean casserole Mashed potatoes Rolls/biscuits Squash Pies: Pumpkin Desserts: Carrot cake Cookies Ice cream                                                                                                                                                                    1\n",
       "Baked Turkey with Bread-based stuffing and Canned cranberry sauce and gravy Sides: Corn Cornbread Green beans/green bean casserole Macaroni and cheese Rolls/biscuits Squash Vegetable salad Yams/sweet potato casserole Other (please specify) Pies: Apple Cherry Chocolate Pecan Pumpkin Other (please specify) Desserts: Cheesecake Other (please specify) Other (please specify).1    1\n",
       "Roasted Turkey with Bread-based stuffing and Homemade cranberry sauce and gravy Sides: Brussel sprouts Cauliflower Rolls/biscuits Squash Yams/sweet potato casserole Pies: Apple Other (please specify) Desserts: Ice cream                                                                                                                                                               1\n",
       "Roasted Turducken with Bread-based stuffing and Homemade cranberry sauce and gravy Sides: Corn Cornbread Green beans/green bean casserole Mashed potatoes Rolls/biscuits Squash Yams/sweet potato casserole Pies: Cherry Pecan Desserts: None                                                                                                                                             1\n",
       "Roasted Turkey with Bread-based stuffing and Canned cranberry sauce and gravy Sides: Carrots Corn Mashed potatoes Rolls/biscuits Squash Yams/sweet potato casserole Pies: Apple Chocolate Pumpkin Desserts: None                                                                                                                                                                          1\n",
       "I don't know Turkey with None stuffing and None cranberry sauce and gravy Sides: Carrots Corn Mashed potatoes Rolls/biscuits Pies: Other (please specify) Desserts: Other (please specify) Other (please specify).1                                                                                                                                                                       1\n",
       "Roasted Chicken with Bread-based stuffing and None cranberry sauce and gravy Sides: Cauliflower Corn Fruit salad Green beans/green bean casserole Mashed potatoes Pies: Cherry Key lime Peach Pumpkin Desserts: Apple cobbler Brownies Carrot cake Cookies                                                                                                                                1\n",
       "Baked Turkey with Bread-based stuffing and Canned cranberry sauce and gravy Sides: Carrots Fruit salad Green beans/green bean casserole Macaroni and cheese Rolls/biscuits Vegetable salad Yams/sweet potato casserole Pies: Apple Pecan Pumpkin Desserts: Cookies                                                                                                                        1\n",
       "Baked Turkey with Bread-based stuffing and Canned cranberry sauce and gravy Sides: Corn Fruit salad Green beans/green bean casserole Mashed potatoes Yams/sweet potato casserole Pies: Apple Desserts: Apple cobbler Ice cream                                                                                                                                                            1\n",
       "Fried Turkey with Bread-based stuffing and Canned cranberry sauce and gravy Sides: Corn Fruit salad Green beans/green bean casserole Mashed potatoes Rolls/biscuits Yams/sweet potato casserole Pies: Pecan Pumpkin Desserts: None                                                                                                                                                        1\n",
       "Baked Ham/Pork with None stuffing and Canned cranberry sauce and gravy Sides: Carrots Cauliflower Corn Green beans/green bean casserole Mashed potatoes Rolls/biscuits Pies: Apple Pecan Sweet Potato Desserts: Fudge                                                                                                                                                                     1\n",
       "Roasted Turkey with Bread-based stuffing and Canned cranberry sauce and gravy Sides: Brussel sprouts Carrots Cauliflower Mashed potatoes Rolls/biscuits Squash Pies: Apple Pumpkin Desserts: Cookies                                                                                                                                                                                      1\n",
       "I don't know Turkey with Bread-based stuffing and Canned cranberry sauce and gravy Sides: Green beans/green bean casserole Mashed potatoes Rolls/biscuits Yams/sweet potato casserole Pies: Pecan Pumpkin Desserts: Cheesecake Ice cream                                                                                                                                                  1\n",
       "Baked Turkey with Bread-based stuffing and Homemade cranberry sauce and gravy Sides: Brussel sprouts Corn Cornbread Green beans/green bean casserole Mashed potatoes Rolls/biscuits Yams/sweet potato casserole Pies: Pumpkin Desserts: None                                                                                                                                              1\n",
       "Baked Turkey with Bread-based stuffing and Homemade cranberry sauce and gravy Sides: Green beans/green bean casserole Mashed potatoes Yams/sweet potato casserole Pies: Pecan Pumpkin Desserts: Other (please specify) Other (please specify).1                                                                                                                                           1\n",
       "Baked Turkey with Bread-based stuffing and Canned cranberry sauce and gravy Sides: Corn Green beans/green bean casserole Macaroni and cheese Mashed potatoes Rolls/biscuits Yams/sweet potato casserole Pies: Pumpkin Other (please specify) Desserts: Brownies                                                                                                                           1\n",
       "Roasted Turkey with Bread-based stuffing and Homemade cranberry sauce and gravy Sides: Mashed potatoes Pies: Apple Pumpkin Desserts: Carrot cake Cheesecake Cookies                                                                                                                                                                                                                       1\n",
       "                                                                                                                                                                                                                                                                                                                                                                                         ..\n",
       "Roasted Turkey with Bread-based stuffing and Canned cranberry sauce and gravy Sides: Brussel sprouts Carrots Green beans/green bean casserole Mashed potatoes Rolls/biscuits Pies: Apple Pumpkin Desserts: Brownies                                                                                                                                                                       1\n",
       "Roasted Turkey with Bread-based stuffing and Homemade cranberry sauce and gravy Sides: Carrots Corn Cornbread Green beans/green bean casserole Mashed potatoes Rolls/biscuits Pies: Apple Cherry Desserts: Apple cobbler                                                                                                                                                                  1\n",
       "Baked Turkey with Bread-based stuffing and None cranberry sauce and gravy Sides: Carrots Green beans/green bean casserole Mashed potatoes Rolls/biscuits Squash Pies: Apple Pumpkin Desserts: Cookies                                                                                                                                                                                     1\n",
       "Ronco Turkey with Other (please specify) stuffing and Canned cranberry sauce and gravy Sides: Green beans/green bean casserole Mashed potatoes Rolls/biscuits Yams/sweet potato casserole Pies: Pecan Pumpkin Other (please specify) Desserts: Other (please specify) Other (please specify).1                                                                                            1\n",
       "Roasted Turkey with Bread-based stuffing and Canned cranberry sauce and gravy Sides: Corn Cornbread Green beans/green bean casserole Mashed potatoes Rolls/biscuits Pies: Apple Cherry Pecan Pumpkin Desserts: Ice cream                                                                                                                                                                  1\n",
       "Roasted Turkey with Bread-based stuffing and Canned cranberry sauce and gravy Sides: Carrots Green beans/green bean casserole Mashed potatoes Rolls/biscuits Squash Vegetable salad Yams/sweet potato casserole Pies: Apple Pumpkin Sweet Potato Desserts: Brownies Carrot cake Cheesecake Cookies Ice cream                                                                              1\n",
       "Roasted Turkey with Bread-based stuffing and None cranberry sauce and gravy Sides: Corn Green beans/green bean casserole Mashed potatoes Rolls/biscuits Pies: Apple Pecan Pumpkin Desserts: Apple cobbler Cookies                                                                                                                                                                         1\n",
       "Baked Turkey with Bread-based stuffing and None cranberry sauce and gravy Sides: Brussel sprouts Green beans/green bean casserole Mashed potatoes Rolls/biscuits Pies: Pumpkin Desserts: Carrot cake Cookies Ice cream                                                                                                                                                                    1\n",
       "Roasted Turkey with Bread-based stuffing and Canned cranberry sauce and gravy Sides: Brussel sprouts Carrots Cauliflower Corn Cornbread Fruit salad Green beans/green bean casserole Mashed potatoes Rolls/biscuits Yams/sweet potato casserole Pies: Apple Pecan Pumpkin Desserts: Apple cobbler Blondies Brownies Carrot cake Cheesecake Cookies Ice cream                              1\n",
       "Baked Turkey with Bread-based stuffing and Canned cranberry sauce and gravy Sides: Fruit salad Green beans/green bean casserole Mashed potatoes Rolls/biscuits Vegetable salad Yams/sweet potato casserole Pies: Apple Chocolate Key lime Pecan Pumpkin Desserts: Cheesecake                                                                                                              1\n",
       "Baked Turkey with Bread-based stuffing and Homemade cranberry sauce and gravy Sides: Carrots Corn Cornbread Fruit salad Green beans/green bean casserole Macaroni and cheese Mashed potatoes Rolls/biscuits Vegetable salad Yams/sweet potato casserole Pies: Apple Peach Sweet Potato Desserts: Apple cobbler Cheesecake Peach cobbler                                                   1\n",
       "Baked Turkey with Bread-based stuffing and None cranberry sauce and gravy Sides: Brussel sprouts Corn Green beans/green bean casserole Mashed potatoes Rolls/biscuits Yams/sweet potato casserole Pies: Pumpkin Desserts: Cheesecake Cookies                                                                                                                                              1\n",
       "Roasted Turkey with Bread-based stuffing and Homemade cranberry sauce and gravy Sides: Green beans/green bean casserole Mashed potatoes Rolls/biscuits Pies: Pumpkin Desserts: None                                                                                                                                                                                                       1\n",
       "Roasted Turkey with Bread-based stuffing and Canned cranberry sauce and gravy Sides: Green beans/green bean casserole Mashed potatoes Rolls/biscuits Squash Yams/sweet potato casserole Pies: Apple Chocolate Pumpkin Desserts: None                                                                                                                                                      1\n",
       "Roasted Turkey with Bread-based stuffing and Canned cranberry sauce Sides: Green beans/green bean casserole Yams/sweet potato casserole Pies: None Desserts: None                                                                                                                                                                                                                         1\n",
       "Roasted Turkey with Other (please specify) stuffing and Canned cranberry sauce and gravy Sides: Corn Green beans/green bean casserole Mashed potatoes Squash Pies: Pumpkin Desserts: Cookies Ice cream                                                                                                                                                                                    1\n",
       "Baked Turkey with Bread-based stuffing and Canned cranberry sauce and gravy Sides: Brussel sprouts Carrots Corn Green beans/green bean casserole Mashed potatoes Rolls/biscuits Yams/sweet potato casserole Pies: Apple Pumpkin Desserts: Ice cream                                                                                                                                       1\n",
       "Baked Turkey with None stuffing and None cranberry sauce and gravy Sides: Carrots Corn Mashed potatoes Squash Pies: Apple Pecan Desserts: Apple cobbler                                                                                                                                                                                                                                   1\n",
       "Roasted Turkey with Bread-based stuffing and Canned cranberry sauce and gravy Sides: Corn Fruit salad Mashed potatoes Rolls/biscuits Vegetable salad Yams/sweet potato casserole Pies: Chocolate Pumpkin Desserts: Cookies Other (please specify) Other (please specify).1                                                                                                                1\n",
       "Baked Turkey with Bread-based stuffing and None cranberry sauce and gravy Sides: Corn Cornbread Green beans/green bean casserole Macaroni and cheese Rolls/biscuits Vegetable salad Yams/sweet potato casserole Pies: Apple Pecan Pumpkin Sweet Potato Desserts: Brownies Cookies Fudge Peach cobbler                                                                                     1\n",
       "Baked Turkey with Bread-based stuffing and None cranberry sauce and gravy Sides: Corn Fruit salad Mashed potatoes Rolls/biscuits Pies: Apple Pumpkin Desserts: None                                                                                                                                                                                                                       1\n",
       "Roasted Turkey with Bread-based stuffing and None cranberry sauce Sides: Carrots Green beans/green bean casserole Squash Pies: None Desserts: Ice cream                                                                                                                                                                                                                                   1\n",
       "Baked Turkey with Bread-based stuffing and Canned cranberry sauce and gravy Sides: Carrots Corn Cornbread Green beans/green bean casserole Mashed potatoes Rolls/biscuits Squash Yams/sweet potato casserole Pies: Apple Pecan Pumpkin Desserts: Carrot cake Cheesecake Ice cream Peach cobbler                                                                                           1\n",
       "Grilled Turkey with Bread-based stuffing and None cranberry sauce and gravy Sides: Green beans/green bean casserole Mashed potatoes Vegetable salad Pies: Apple Chocolate Pecan Desserts: Brownies Carrot cake Cookies                                                                                                                                                                    1\n",
       "Roasted Turkey with Bread-based stuffing and Homemade cranberry sauce and gravy Sides: Carrots Green beans/green bean casserole Mashed potatoes Rolls/biscuits Vegetable salad Yams/sweet potato casserole Pies: Apple Pumpkin Sweet Potato Desserts: Blondies Carrot cake                                                                                                                1\n",
       "Baked Turkey with Bread-based stuffing and Homemade cranberry sauce and gravy Sides: Fruit salad Green beans/green bean casserole Rolls/biscuits Yams/sweet potato casserole Pies: Apple Coconut cream Pumpkin Desserts: Other (please specify) Other (please specify).1                                                                                                                  1\n",
       "Baked Turkey with Bread-based stuffing and Canned cranberry sauce and gravy Sides: Fruit salad Mashed potatoes Rolls/biscuits Yams/sweet potato casserole Pies: Apple Desserts: Apple cobbler Ice cream                                                                                                                                                                                   1\n",
       "Roasted Turkey with Bread-based stuffing and None cranberry sauce and gravy Sides: Green beans/green bean casserole Mashed potatoes Rolls/biscuits Pies: Pumpkin Sweet Potato Desserts: None                                                                                                                                                                                              1\n",
       "Baked Turkey with Bread-based stuffing and Canned cranberry sauce and gravy Sides: Corn Green beans/green bean casserole Mashed potatoes Pies: Pumpkin Desserts: Apple cobbler                                                                                                                                                                                                            1\n",
       "Baked Turkey with Bread-based stuffing and None cranberry sauce Sides: Corn Cornbread Fruit salad Mashed potatoes Vegetable salad Yams/sweet potato casserole Pies: Apple Pumpkin Sweet Potato Desserts: Brownies Carrot cake Cheesecake Cookies Ice cream                                                                                                                                1\n",
       "dtype: int64"
      ]
     },
     "execution_count": 18,
     "metadata": {},
     "output_type": "execute_result"
    }
   ],
   "source": [
    "def get_desserts(row):\n",
    "    dessert = []   \n",
    "    for column in data.iloc[:,39:51]:\n",
    "        dessert_name = column[104:]\n",
    "        if not pd.isnull(row[column]):\n",
    "            dessert.append(dessert_name)\n",
    "\n",
    "    return dessert\n",
    "\n",
    "def get_sides(row):\n",
    "    sides = []   \n",
    "    for column in data.iloc[:,11:25]:\n",
    "        side_name = column[108:]\n",
    "        if not pd.isnull(row[column]):\n",
    "            sides.append(side_name)\n",
    "\n",
    "    return sides\n",
    "\n",
    "def get_pies(row):\n",
    "    pies = []   \n",
    "    for column in data.iloc[:,26:38]:\n",
    "        pie_name = column[99:]\n",
    "        if not pd.isnull(row[column]):\n",
    "            pies.append(pie_name)\n",
    "\n",
    "    return pies\n",
    "\n",
    "def get_complete_meal_with_extras(row):\n",
    "    \n",
    "    meal = ''\n",
    "    main = row['What is typically the main dish at your Thanksgiving dinner?']\n",
    "    if main == 'Other (please specify)': main = row['What is typically the main dish at your Thanksgiving dinner? - Other (please specify)']\n",
    "    cooked = row['How is the main dish typically cooked?']\n",
    "    if cooked == 'Other (please specify)': cooked = row['How is the main dish typically cooked? - Other (please specify)']\n",
    "    meal = str(cooked) + ' ' + str(main) \n",
    "    stuffing = row['What kind of stuffing/dressing do you typically have?']\n",
    "    meal += ' with ' + str(stuffing) + ' stuffing'\n",
    "    cranberry = row['What type of cranberry saucedo you typically have?']\n",
    "    meal += ' and ' + str(cranberry) + ' cranberry sauce'\n",
    "    if row['Do you typically have gravy?'] == 'Yes':\n",
    "        meal += ' and gravy'\n",
    "    sides = get_sides(row)\n",
    "    meal += ' ' + 'Sides: ' + ' '.join(sides)\n",
    "    pies = get_pies(row)\n",
    "    meal += ' ' + 'Pies: ' + ' '.join(pies)\n",
    "    desserts = get_desserts(row)\n",
    "    meal += ' ' + 'Desserts: ' + ' '.join(desserts)\n",
    "    return meal\n",
    "meals = data.apply(get_complete_meal_with_extras,axis=1)\n",
    "meals.value_counts()"
   ]
  },
  {
   "cell_type": "markdown",
   "metadata": {},
   "source": [
    "Not a lot of people have the exact same meal when including sides, pies, and desserts.\n",
    "\n",
    "## Main Dishes and Sides"
   ]
  },
  {
   "cell_type": "code",
   "execution_count": 19,
   "metadata": {
    "collapsed": false
   },
   "outputs": [
    {
     "data": {
      "text/plain": [
       "Turkey Sides: Green beans/green bean casserole Mashed potatoes Rolls/biscuits Yams/sweet potato casserole                                                                                                       37\n",
       "Turkey Sides: Corn Green beans/green bean casserole Mashed potatoes Rolls/biscuits Yams/sweet potato casserole                                                                                                  31\n",
       "Turkey Sides: Green beans/green bean casserole Mashed potatoes Rolls/biscuits                                                                                                                                   21\n",
       "Turkey Sides: Corn Green beans/green bean casserole Mashed potatoes Rolls/biscuits                                                                                                                              20\n",
       "Turkey Sides: Corn Cornbread Green beans/green bean casserole Macaroni and cheese Mashed potatoes Rolls/biscuits Yams/sweet potato casserole                                                                    13\n",
       "Turkey Sides: Fruit salad Green beans/green bean casserole Mashed potatoes Rolls/biscuits Yams/sweet potato casserole                                                                                           12\n",
       "Turkey Sides: Corn Fruit salad Green beans/green bean casserole Mashed potatoes Rolls/biscuits Yams/sweet potato casserole                                                                                      11\n",
       "Turkey Sides: Corn Mashed potatoes Rolls/biscuits Yams/sweet potato casserole                                                                                                                                   11\n",
       "Turkey Sides:                                                                                                                                                                                                    9\n",
       "Turkey Sides: Brussel sprouts Green beans/green bean casserole Mashed potatoes Rolls/biscuits Yams/sweet potato casserole                                                                                        8\n",
       "Turkey Sides: Green beans/green bean casserole Mashed potatoes Rolls/biscuits Squash Yams/sweet potato casserole                                                                                                 8\n",
       "Turkey Sides: Fruit salad Green beans/green bean casserole Mashed potatoes Rolls/biscuits Vegetable salad Yams/sweet potato casserole                                                                            8\n",
       "Turkey Sides: Carrots Corn Green beans/green bean casserole Mashed potatoes Rolls/biscuits Yams/sweet potato casserole                                                                                           7\n",
       "Turkey Sides: Mashed potatoes Rolls/biscuits Yams/sweet potato casserole                                                                                                                                         7\n",
       "Turkey Sides: Carrots Green beans/green bean casserole Mashed potatoes Rolls/biscuits Yams/sweet potato casserole                                                                                                7\n",
       "Turkey Sides: Corn Green beans/green bean casserole Macaroni and cheese Mashed potatoes Rolls/biscuits Yams/sweet potato casserole                                                                               7\n",
       "Turkey Sides: Green beans/green bean casserole Mashed potatoes Yams/sweet potato casserole                                                                                                                       6\n",
       "nan Sides:                                                                                                                                                                                                       6\n",
       "Turkey Sides: Mashed potatoes Rolls/biscuits                                                                                                                                                                     6\n",
       "Turkey Sides: Green beans/green bean casserole Mashed potatoes Rolls/biscuits Vegetable salad Yams/sweet potato casserole                                                                                        6\n",
       "Turkey Sides: Brussel sprouts Corn Green beans/green bean casserole Mashed potatoes Rolls/biscuits Yams/sweet potato casserole                                                                                   5\n",
       "Turkey Sides: Corn Cornbread Green beans/green bean casserole Mashed potatoes Rolls/biscuits                                                                                                                     5\n",
       "Turkey Sides: Mashed potatoes                                                                                                                                                                                    5\n",
       "Turkey Sides: Carrots Corn Cornbread Green beans/green bean casserole Macaroni and cheese Mashed potatoes Rolls/biscuits Yams/sweet potato casserole                                                             5\n",
       "Turkey Sides: Corn Mashed potatoes Rolls/biscuits Vegetable salad                                                                                                                                                5\n",
       "Turkey Sides: Corn Cornbread Green beans/green bean casserole Mashed potatoes Rolls/biscuits Yams/sweet potato casserole                                                                                         5\n",
       "Turkey Sides: Green beans/green bean casserole Yams/sweet potato casserole                                                                                                                                       5\n",
       "Turkey Sides: Corn Green beans/green bean casserole Mashed potatoes Rolls/biscuits Vegetable salad Yams/sweet potato casserole                                                                                   5\n",
       "Turkey Sides: Brussel sprouts Mashed potatoes Rolls/biscuits Yams/sweet potato casserole                                                                                                                         4\n",
       "Turkey Sides: Carrots Corn Cornbread Green beans/green bean casserole Mashed potatoes Rolls/biscuits Yams/sweet potato casserole                                                                                 4\n",
       "                                                                                                                                                                                                                ..\n",
       "Turkey Sides: Brussel sprouts Carrots Fruit salad Mashed potatoes Rolls/biscuits Squash Vegetable salad                                                                                                          1\n",
       "Turkey Sides: Brussel sprouts Carrots Corn Green beans/green bean casserole Macaroni and cheese Mashed potatoes Rolls/biscuits Yams/sweet potato casserole                                                       1\n",
       "Roast beef Sides: Carrots Cauliflower Mashed potatoes Rolls/biscuits                                                                                                                                             1\n",
       "gumbo Sides: Vegetable salad Other (please specify)                                                                                                                                                              1\n",
       "Turkey Sides: Corn Macaroni and cheese Rolls/biscuits Squash                                                                                                                                                     1\n",
       "Turkey Sides: Brussel sprouts Mashed potatoes Rolls/biscuits Squash                                                                                                                                              1\n",
       "Turkey Sides: Fruit salad Green beans/green bean casserole Mashed potatoes Rolls/biscuits                                                                                                                        1\n",
       "Turkey Sides: Brussel sprouts Carrots Green beans/green bean casserole Rolls/biscuits Yams/sweet potato casserole                                                                                                1\n",
       "Ham/Pork Sides: Cornbread Green beans/green bean casserole Other (please specify)                                                                                                                                1\n",
       "seafood Sides: Corn Green beans/green bean casserole Mashed potatoes Rolls/biscuits Yams/sweet potato casserole                                                                                                  1\n",
       "Turkey Sides: Carrots Corn Fruit salad Green beans/green bean casserole Yams/sweet potato casserole                                                                                                              1\n",
       "alternate turkey & ham Sides: Cauliflower Green beans/green bean casserole Mashed potatoes Rolls/biscuits Vegetable salad Other (please specify)                                                                 1\n",
       "Turkey Sides: Corn Green beans/green bean casserole Mashed potatoes Rolls/biscuits Squash Vegetable salad                                                                                                        1\n",
       "Turkey Sides: Green beans/green bean casserole Vegetable salad Yams/sweet potato casserole Other (please specify)                                                                                                1\n",
       "Turkey Sides: Cauliflower Fruit salad Mashed potatoes Rolls/biscuits Yams/sweet potato casserole                                                                                                                 1\n",
       "Turkey Sides: Carrots Corn Fruit salad Green beans/green bean casserole Mashed potatoes Rolls/biscuits                                                                                                           1\n",
       "Turkey Sides: Fruit salad Green beans/green bean casserole Mashed potatoes Yams/sweet potato casserole Other (please specify)                                                                                    1\n",
       "Turkey Sides: Brussel sprouts Corn Fruit salad Green beans/green bean casserole Mashed potatoes Rolls/biscuits Vegetable salad                                                                                   1\n",
       "salmon Sides: Other (please specify)                                                                                                                                                                             1\n",
       "Turkey Sides: Brussel sprouts Carrots Green beans/green bean casserole Mashed potatoes Rolls/biscuits Yams/sweet potato casserole                                                                                1\n",
       "Roast beef Sides: Carrots Fruit salad Mashed potatoes Rolls/biscuits Squash Vegetable salad Yams/sweet potato casserole                                                                                          1\n",
       "Turkey Sides: Macaroni and cheese Mashed potatoes Rolls/biscuits Yams/sweet potato casserole Other (please specify)                                                                                              1\n",
       "Turkey Sides: Brussel sprouts Fruit salad Macaroni and cheese Rolls/biscuits Yams/sweet potato casserole                                                                                                         1\n",
       "Roast beef Sides: Carrots Green beans/green bean casserole Macaroni and cheese Mashed potatoes Rolls/biscuits Yams/sweet potato casserole                                                                        1\n",
       "Turkey Sides: Brussel sprouts Green beans/green bean casserole Macaroni and cheese Mashed potatoes Rolls/biscuits Yams/sweet potato casserole                                                                    1\n",
       "Turkey Sides: Carrots Corn Fruit salad Mashed potatoes Rolls/biscuits                                                                                                                                            1\n",
       "Turkey Sides: Brussel sprouts Carrots Cauliflower Corn Cornbread Fruit salad Green beans/green bean casserole Macaroni and cheese Mashed potatoes Rolls/biscuits Vegetable salad Yams/sweet potato casserole     1\n",
       "Turkey Sides: Carrots Cauliflower Corn Cornbread Fruit salad Green beans/green bean casserole Mashed potatoes Rolls/biscuits Yams/sweet potato casserole                                                         1\n",
       "Turkey Sides: Corn Fruit salad Mashed potatoes Rolls/biscuits Vegetable salad Yams/sweet potato casserole                                                                                                        1\n",
       "Turkey Sides: Cauliflower Corn Green beans/green bean casserole Rolls/biscuits Yams/sweet potato casserole                                                                                                       1\n",
       "dtype: int64"
      ]
     },
     "execution_count": 19,
     "metadata": {},
     "output_type": "execute_result"
    }
   ],
   "source": [
    "def get_complete_dishes(row):\n",
    "    \n",
    "    meal = ''\n",
    "    main = row['What is typically the main dish at your Thanksgiving dinner?']\n",
    "    if main == 'Other (please specify)': main = row['What is typically the main dish at your Thanksgiving dinner? - Other (please specify)']\n",
    "    meal = str(main)\n",
    "    sides = get_sides(row)\n",
    "    meal += ' ' + 'Sides: ' + ' '.join(sides)\n",
    "    return meal\n",
    "meals = data.apply(get_complete_dishes,axis=1)\n",
    "meals.value_counts()"
   ]
  },
  {
   "cell_type": "markdown",
   "metadata": {},
   "source": [
    "The most common main main dish plus side dishes had a total of 37 instances in the poll."
   ]
  },
  {
   "cell_type": "markdown",
   "metadata": {},
   "source": [
    "# How Many People Work on Thanksgiving?"
   ]
  },
  {
   "cell_type": "code",
   "execution_count": 20,
   "metadata": {
    "collapsed": false
   },
   "outputs": [
    {
     "name": "stdout",
     "output_type": "stream",
     "text": [
      "(980, 67)\n"
     ]
    },
    {
     "data": {
      "text/plain": [
       "Yes              43\n",
       "No               20\n",
       "Doesn't apply     7\n",
       "Name: Will you employer make you work on Black Friday?, dtype: int64"
      ]
     },
     "execution_count": 20,
     "metadata": {},
     "output_type": "execute_result"
    }
   ],
   "source": [
    "print(data.shape)\n",
    "data['Will you employer make you work on Black Friday?'].value_counts()\n"
   ]
  },
  {
   "cell_type": "markdown",
   "metadata": {},
   "source": [
    "Only 43 of the surveyed 980 who celebrate thanksgiving were made to work on Black Friday by their employer. Although only 70 people responded to this question."
   ]
  },
  {
   "cell_type": "markdown",
   "metadata": {},
   "source": [
    "# Patterns in Dinner Menus\n",
    "Columns 'How would you describe where you live?', 'Age', 'What is your gender?','US Region'"
   ]
  },
  {
   "cell_type": "markdown",
   "metadata": {},
   "source": [
    "## Regional"
   ]
  },
  {
   "cell_type": "code",
   "execution_count": 21,
   "metadata": {
    "collapsed": false
   },
   "outputs": [
    {
     "data": {
      "text/plain": [
       "['South Atlantic',\n",
       " 'East North Central',\n",
       " 'Middle Atlantic',\n",
       " 'Pacific',\n",
       " 'West South Central',\n",
       " 'West North Central',\n",
       " 'East South Central',\n",
       " 'New England',\n",
       " 'Mountain']"
      ]
     },
     "execution_count": 21,
     "metadata": {},
     "output_type": "execute_result"
    }
   ],
   "source": [
    "list(data['US Region'].value_counts().axes[0])"
   ]
  },
  {
   "cell_type": "code",
   "execution_count": 69,
   "metadata": {
    "collapsed": false
   },
   "outputs": [
    {
     "data": {
      "text/html": [
       "<div>\n",
       "<table border=\"1\" class=\"dataframe\">\n",
       "  <thead>\n",
       "    <tr style=\"text-align: right;\">\n",
       "      <th></th>\n",
       "      <th>Baked(%)</th>\n",
       "      <th>Roasted(%)</th>\n",
       "    </tr>\n",
       "  </thead>\n",
       "  <tbody>\n",
       "    <tr>\n",
       "      <th>South Atlantic</th>\n",
       "      <td>0.522167</td>\n",
       "      <td>0.334975</td>\n",
       "    </tr>\n",
       "    <tr>\n",
       "      <th>East North Central</th>\n",
       "      <td>0.537931</td>\n",
       "      <td>0.393103</td>\n",
       "    </tr>\n",
       "    <tr>\n",
       "      <th>Middle Atlantic</th>\n",
       "      <td>0.427586</td>\n",
       "      <td>0.489655</td>\n",
       "    </tr>\n",
       "    <tr>\n",
       "      <th>Pacific</th>\n",
       "      <td>0.546154</td>\n",
       "      <td>0.353846</td>\n",
       "    </tr>\n",
       "    <tr>\n",
       "      <th>West South Central</th>\n",
       "      <td>0.541176</td>\n",
       "      <td>0.247059</td>\n",
       "    </tr>\n",
       "    <tr>\n",
       "      <th>West North Central</th>\n",
       "      <td>0.619718</td>\n",
       "      <td>0.253521</td>\n",
       "    </tr>\n",
       "    <tr>\n",
       "      <th>East South Central</th>\n",
       "      <td>0.482143</td>\n",
       "      <td>0.375</td>\n",
       "    </tr>\n",
       "    <tr>\n",
       "      <th>New England</th>\n",
       "      <td>0.254545</td>\n",
       "      <td>0.672727</td>\n",
       "    </tr>\n",
       "    <tr>\n",
       "      <th>Mountain</th>\n",
       "      <td>0.512195</td>\n",
       "      <td>0.463415</td>\n",
       "    </tr>\n",
       "  </tbody>\n",
       "</table>\n",
       "</div>"
      ],
      "text/plain": [
       "                    Baked(%) Roasted(%)\n",
       "South Atlantic      0.522167   0.334975\n",
       "East North Central  0.537931   0.393103\n",
       "Middle Atlantic     0.427586   0.489655\n",
       "Pacific             0.546154   0.353846\n",
       "West South Central  0.541176   0.247059\n",
       "West North Central  0.619718   0.253521\n",
       "East South Central  0.482143      0.375\n",
       "New England         0.254545   0.672727\n",
       "Mountain            0.512195   0.463415"
      ]
     },
     "execution_count": 69,
     "metadata": {},
     "output_type": "execute_result"
    }
   ],
   "source": [
    "results = pd.DataFrame(index = list(data['US Region'].value_counts().axes[0]),columns = [\"Baked(%)\",\"Roasted(%)\"])\n",
    "for region in list(data['US Region'].value_counts().axes[0]):\n",
    "    region_data = data[data[\"US Region\"] == region]\n",
    "    results.loc[region,'Baked(%)'] = region_data[region_data['How is the main dish typically cooked?'] == 'Baked'].shape[0]/region_data.shape[0]\n",
    "    results.loc[region,'Roasted(%)'] = region_data[region_data['How is the main dish typically cooked?'] == 'Roasted'].shape[0]/region_data.shape[0] \n",
    "results    \n"
   ]
  },
  {
   "cell_type": "markdown",
   "metadata": {},
   "source": [
    "## Findings\n",
    "We can see from the table above that only two regions where roasting the main dish is more popular than baking it are the Middle Atlantic and New England.\n",
    "\n"
   ]
  },
  {
   "cell_type": "code",
   "execution_count": 76,
   "metadata": {
    "collapsed": false
   },
   "outputs": [
    {
     "data": {
      "text/html": [
       "<div>\n",
       "<table border=\"1\" class=\"dataframe\">\n",
       "  <thead>\n",
       "    <tr style=\"text-align: right;\">\n",
       "      <th></th>\n",
       "      <th>Turkey</th>\n",
       "      <th>Other (please specify)</th>\n",
       "      <th>Ham/Pork</th>\n",
       "      <th>Tofurkey</th>\n",
       "      <th>Chicken</th>\n",
       "      <th>Roast beef</th>\n",
       "      <th>I don't know</th>\n",
       "      <th>Turducken</th>\n",
       "    </tr>\n",
       "  </thead>\n",
       "  <tbody>\n",
       "    <tr>\n",
       "      <th>East North Central</th>\n",
       "      <td>0.931034</td>\n",
       "      <td>0.0344828</td>\n",
       "      <td>0.0275862</td>\n",
       "      <td>0.00689655</td>\n",
       "      <td>0</td>\n",
       "      <td>0</td>\n",
       "      <td>0</td>\n",
       "      <td>0</td>\n",
       "    </tr>\n",
       "    <tr>\n",
       "      <th>New England</th>\n",
       "      <td>0.927273</td>\n",
       "      <td>0.0181818</td>\n",
       "      <td>0</td>\n",
       "      <td>0.0181818</td>\n",
       "      <td>0.0363636</td>\n",
       "      <td>0</td>\n",
       "      <td>0</td>\n",
       "      <td>0</td>\n",
       "    </tr>\n",
       "    <tr>\n",
       "      <th>West South Central</th>\n",
       "      <td>0.905882</td>\n",
       "      <td>0.0352941</td>\n",
       "      <td>0.0235294</td>\n",
       "      <td>0.0235294</td>\n",
       "      <td>0.0117647</td>\n",
       "      <td>0</td>\n",
       "      <td>0</td>\n",
       "      <td>0</td>\n",
       "    </tr>\n",
       "    <tr>\n",
       "      <th>Mountain</th>\n",
       "      <td>0.902439</td>\n",
       "      <td>0</td>\n",
       "      <td>0.0243902</td>\n",
       "      <td>0.0487805</td>\n",
       "      <td>0.0243902</td>\n",
       "      <td>0</td>\n",
       "      <td>0</td>\n",
       "      <td>0</td>\n",
       "    </tr>\n",
       "    <tr>\n",
       "      <th>Middle Atlantic</th>\n",
       "      <td>0.896552</td>\n",
       "      <td>0.0275862</td>\n",
       "      <td>0.0137931</td>\n",
       "      <td>0.0344828</td>\n",
       "      <td>0.00689655</td>\n",
       "      <td>0.0137931</td>\n",
       "      <td>0</td>\n",
       "      <td>0.00689655</td>\n",
       "    </tr>\n",
       "    <tr>\n",
       "      <th>East South Central</th>\n",
       "      <td>0.892857</td>\n",
       "      <td>0.0714286</td>\n",
       "      <td>0.0178571</td>\n",
       "      <td>0</td>\n",
       "      <td>0</td>\n",
       "      <td>0.0178571</td>\n",
       "      <td>0</td>\n",
       "      <td>0</td>\n",
       "    </tr>\n",
       "    <tr>\n",
       "      <th>South Atlantic</th>\n",
       "      <td>0.891626</td>\n",
       "      <td>0.0295567</td>\n",
       "      <td>0.0344828</td>\n",
       "      <td>0.0147783</td>\n",
       "      <td>0.0147783</td>\n",
       "      <td>0.0147783</td>\n",
       "      <td>0</td>\n",
       "      <td>0</td>\n",
       "    </tr>\n",
       "    <tr>\n",
       "      <th>West North Central</th>\n",
       "      <td>0.84507</td>\n",
       "      <td>0.0422535</td>\n",
       "      <td>0.056338</td>\n",
       "      <td>0.028169</td>\n",
       "      <td>0.0140845</td>\n",
       "      <td>0</td>\n",
       "      <td>0.0140845</td>\n",
       "      <td>0</td>\n",
       "    </tr>\n",
       "    <tr>\n",
       "      <th>Pacific</th>\n",
       "      <td>0.823077</td>\n",
       "      <td>0.0692308</td>\n",
       "      <td>0.0461538</td>\n",
       "      <td>0.0307692</td>\n",
       "      <td>0</td>\n",
       "      <td>0.00769231</td>\n",
       "      <td>0.00769231</td>\n",
       "      <td>0.0153846</td>\n",
       "    </tr>\n",
       "  </tbody>\n",
       "</table>\n",
       "</div>"
      ],
      "text/plain": [
       "                      Turkey Other (please specify)   Ham/Pork    Tofurkey  \\\n",
       "East North Central  0.931034              0.0344828  0.0275862  0.00689655   \n",
       "New England         0.927273              0.0181818          0   0.0181818   \n",
       "West South Central  0.905882              0.0352941  0.0235294   0.0235294   \n",
       "Mountain            0.902439                      0  0.0243902   0.0487805   \n",
       "Middle Atlantic     0.896552              0.0275862  0.0137931   0.0344828   \n",
       "East South Central  0.892857              0.0714286  0.0178571           0   \n",
       "South Atlantic      0.891626              0.0295567  0.0344828   0.0147783   \n",
       "West North Central   0.84507              0.0422535   0.056338    0.028169   \n",
       "Pacific             0.823077              0.0692308  0.0461538   0.0307692   \n",
       "\n",
       "                       Chicken  Roast beef I don't know   Turducken  \n",
       "East North Central           0           0            0           0  \n",
       "New England          0.0363636           0            0           0  \n",
       "West South Central   0.0117647           0            0           0  \n",
       "Mountain             0.0243902           0            0           0  \n",
       "Middle Atlantic     0.00689655   0.0137931            0  0.00689655  \n",
       "East South Central           0   0.0178571            0           0  \n",
       "South Atlantic       0.0147783   0.0147783            0           0  \n",
       "West North Central   0.0140845           0    0.0140845           0  \n",
       "Pacific                      0  0.00769231   0.00769231   0.0153846  "
      ]
     },
     "execution_count": 76,
     "metadata": {},
     "output_type": "execute_result"
    }
   ],
   "source": [
    "results_all = pd.DataFrame(index = list(data['US Region'].value_counts().axes[0]),columns = list(data['What is typically the main dish at your Thanksgiving dinner?'].value_counts().sort_values(ascending=False).axes[0]))\n",
    "for region in list(data['US Region'].value_counts().axes[0]):\n",
    "    region_data = data[data[\"US Region\"] == region]\n",
    "    for meal in list(results_all.columns)  :\n",
    "        results_all.loc[region,meal] = region_data[region_data['What is typically the main dish at your Thanksgiving dinner?'] == meal].shape[0]/region_data.shape[0]\n",
    "results_all.sort_values('Turkey',ascending=False)"
   ]
  },
  {
   "cell_type": "markdown",
   "metadata": {},
   "source": [
    "Turkey is most common in the East North Central and least common in the Pacific. "
   ]
  },
  {
   "cell_type": "markdown",
   "metadata": {},
   "source": [
    "## Income and Age"
   ]
  },
  {
   "cell_type": "code",
   "execution_count": 61,
   "metadata": {
    "collapsed": false
   },
   "outputs": [
    {
     "data": {
      "text/plain": [
       "How is the main dish typically cooked?\n",
       "Fried                     60512.820513\n",
       "I don't know              66666.666667\n",
       "Baked                     69306.220096\n",
       "Roasted                   84645.061728\n",
       "Other (please specify)    92820.512821\n",
       "Name: int_income, dtype: float64"
      ]
     },
     "execution_count": 61,
     "metadata": {},
     "output_type": "execute_result"
    }
   ],
   "source": [
    "data.pivot_table(index='How is the main dish typically cooked?',values='int_income').sort_values()"
   ]
  },
  {
   "cell_type": "code",
   "execution_count": 62,
   "metadata": {
    "collapsed": false
   },
   "outputs": [
    {
     "data": {
      "text/plain": [
       "How is the main dish typically cooked?\n",
       "I don't know              27.800000\n",
       "Fried                     35.200000\n",
       "Baked                     37.949045\n",
       "Roasted                   43.414169\n",
       "Other (please specify)    44.020408\n",
       "Name: int_age, dtype: float64"
      ]
     },
     "execution_count": 62,
     "metadata": {},
     "output_type": "execute_result"
    }
   ],
   "source": [
    "data.pivot_table(index='How is the main dish typically cooked?',values='int_age').sort_values()"
   ]
  },
  {
   "cell_type": "markdown",
   "metadata": {},
   "source": [
    "Roasting is more common among the older and wealthier."
   ]
  },
  {
   "cell_type": "code",
   "execution_count": 63,
   "metadata": {
    "collapsed": false
   },
   "outputs": [
    {
     "data": {
      "text/plain": [
       "What kind of stuffing/dressing do you typically have?\n",
       "Rice-based                31.950000\n",
       "None                      35.947368\n",
       "Bread-based               40.474265\n",
       "Other (please specify)    47.382353\n",
       "Name: int_age, dtype: float64"
      ]
     },
     "execution_count": 63,
     "metadata": {},
     "output_type": "execute_result"
    }
   ],
   "source": [
    "data.pivot_table(index='What kind of stuffing/dressing do you typically have?',values='int_age').sort_values()"
   ]
  },
  {
   "cell_type": "code",
   "execution_count": 64,
   "metadata": {
    "collapsed": false
   },
   "outputs": [
    {
     "data": {
      "text/plain": [
       "What kind of stuffing/dressing do you typically have?\n",
       "Rice-based                39032.258065\n",
       "None                      62209.302326\n",
       "Bread-based               78135.359116\n",
       "Other (please specify)    81290.322581\n",
       "Name: int_income, dtype: float64"
      ]
     },
     "execution_count": 64,
     "metadata": {},
     "output_type": "execute_result"
    }
   ],
   "source": [
    "data.pivot_table(index='What kind of stuffing/dressing do you typically have?',values='int_income').sort_values()"
   ]
  },
  {
   "cell_type": "markdown",
   "metadata": {},
   "source": [
    "Rice-based stuffing is more common among the younger and less wealthy."
   ]
  },
  {
   "cell_type": "code",
   "execution_count": 65,
   "metadata": {
    "collapsed": false
   },
   "outputs": [
    {
     "data": {
      "text/plain": [
       "What is typically the main dish at your Thanksgiving dinner?\n",
       "I don't know               16666.666667\n",
       "Roast beef                 35625.000000\n",
       "Chicken                    40500.000000\n",
       "Ham/Pork                   65370.370370\n",
       "Tofurkey                   73235.294118\n",
       "Turkey                     77113.543092\n",
       "Other (please specify)     79193.548387\n",
       "Turducken                 200000.000000\n",
       "Name: int_income, dtype: float64"
      ]
     },
     "execution_count": 65,
     "metadata": {},
     "output_type": "execute_result"
    }
   ],
   "source": [
    "data.pivot_table(index='What is typically the main dish at your Thanksgiving dinner?',values='int_income', ).sort_values()"
   ]
  },
  {
   "cell_type": "markdown",
   "metadata": {},
   "source": [
    "Roast beef and Chicken are more commong among poorer people. Turducken seems to be only for the truly wealthy."
   ]
  },
  {
   "cell_type": "markdown",
   "metadata": {},
   "source": [
    "## Gender"
   ]
  },
  {
   "cell_type": "code",
   "execution_count": 99,
   "metadata": {
    "collapsed": false
   },
   "outputs": [
    {
     "data": {
      "text/plain": [
       "Female    515\n",
       "Male      432\n",
       "Name: What is your gender?, dtype: int64"
      ]
     },
     "execution_count": 99,
     "metadata": {},
     "output_type": "execute_result"
    }
   ],
   "source": [
    "totals = data['What is your gender?'].value_counts()\n",
    "totals"
   ]
  },
  {
   "cell_type": "code",
   "execution_count": 103,
   "metadata": {
    "collapsed": false
   },
   "outputs": [
    {
     "data": {
      "text/plain": [
       "Female    0.906796\n",
       "Male      0.932870\n",
       "Name: What is your gender?, dtype: float64"
      ]
     },
     "execution_count": 103,
     "metadata": {},
     "output_type": "execute_result"
    }
   ],
   "source": [
    "data[data['Do you typically have gravy?'] == 'Yes']['What is your gender?'].value_counts()/totals"
   ]
  },
  {
   "cell_type": "code",
   "execution_count": 106,
   "metadata": {
    "collapsed": false
   },
   "outputs": [
    {
     "data": {
      "text/plain": [
       "Female    0.025243\n",
       "Male      0.016204\n",
       "Name: What is your gender?, dtype: float64"
      ]
     },
     "execution_count": 106,
     "metadata": {},
     "output_type": "execute_result"
    }
   ],
   "source": [
    "data[data['What is typically the main dish at your Thanksgiving dinner?'] == 'Tofurkey']['What is your gender?'].value_counts()/totals"
   ]
  }
 ],
 "metadata": {
  "kernelspec": {
   "display_name": "Python 3",
   "language": "python",
   "name": "python3"
  },
  "language_info": {
   "codemirror_mode": {
    "name": "ipython",
    "version": 3
   },
   "file_extension": ".py",
   "mimetype": "text/x-python",
   "name": "python",
   "nbconvert_exporter": "python",
   "pygments_lexer": "ipython3",
   "version": "3.6.0"
  }
 },
 "nbformat": 4,
 "nbformat_minor": 0
}
