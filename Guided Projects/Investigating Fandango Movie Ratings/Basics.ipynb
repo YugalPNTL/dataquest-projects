{
 "cells": [
  {
   "cell_type": "markdown",
   "metadata": {},
   "source": [
    "# Investigating Fandango Movie Ratings\n",
    "\n",
    "This project looks at Fandango movie ratings to observe any bias that might be present. It is a follow-up analysis to [FiveThirtyEight's 2015 article](https://fivethirtyeight.com/features/fandango-movies-ratings/) showing strong bias in Fandango's ratings. We'll take a look at ratings of movies released after this article was published.\n",
    "\n",
    "The goal will be to see if there were any changes to Fandango's ratings system after the article was written. To achieve this goal we will use the original data for the article [provided by FiveThirtyEight](https://github.com/fivethirtyeight/data/tree/master/fandango) as well as Fandango scores collected in 2016 and 2017 available in a [publicly available data set](https://github.com/mircealex/Movie_ratings_2016_17).\n",
    "\n",
    "## Understanding the Data"
   ]
  },
  {
   "cell_type": "code",
   "execution_count": 6,
   "metadata": {
    "collapsed": false
   },
   "outputs": [
    {
     "data": {
      "text/html": [
       "<div>\n",
       "<style scoped>\n",
       "    .dataframe tbody tr th:only-of-type {\n",
       "        vertical-align: middle;\n",
       "    }\n",
       "\n",
       "    .dataframe tbody tr th {\n",
       "        vertical-align: top;\n",
       "    }\n",
       "\n",
       "    .dataframe thead th {\n",
       "        text-align: right;\n",
       "    }\n",
       "</style>\n",
       "<table border=\"1\" class=\"dataframe\">\n",
       "  <thead>\n",
       "    <tr style=\"text-align: right;\">\n",
       "      <th></th>\n",
       "      <th>FILM</th>\n",
       "      <th>Fandango_Stars</th>\n",
       "      <th>Fandango_Ratingvalue</th>\n",
       "      <th>Fandango_votes</th>\n",
       "      <th>Fandango_Difference</th>\n",
       "    </tr>\n",
       "  </thead>\n",
       "  <tbody>\n",
       "    <tr>\n",
       "      <th>0</th>\n",
       "      <td>Avengers: Age of Ultron (2015)</td>\n",
       "      <td>5.0</td>\n",
       "      <td>4.5</td>\n",
       "      <td>14846</td>\n",
       "      <td>0.5</td>\n",
       "    </tr>\n",
       "    <tr>\n",
       "      <th>1</th>\n",
       "      <td>Cinderella (2015)</td>\n",
       "      <td>5.0</td>\n",
       "      <td>4.5</td>\n",
       "      <td>12640</td>\n",
       "      <td>0.5</td>\n",
       "    </tr>\n",
       "    <tr>\n",
       "      <th>2</th>\n",
       "      <td>Ant-Man (2015)</td>\n",
       "      <td>5.0</td>\n",
       "      <td>4.5</td>\n",
       "      <td>12055</td>\n",
       "      <td>0.5</td>\n",
       "    </tr>\n",
       "  </tbody>\n",
       "</table>\n",
       "</div>"
      ],
      "text/plain": [
       "                             FILM  Fandango_Stars  Fandango_Ratingvalue  \\\n",
       "0  Avengers: Age of Ultron (2015)             5.0                   4.5   \n",
       "1               Cinderella (2015)             5.0                   4.5   \n",
       "2                  Ant-Man (2015)             5.0                   4.5   \n",
       "\n",
       "   Fandango_votes  Fandango_Difference  \n",
       "0           14846                  0.5  \n",
       "1           12640                  0.5  \n",
       "2           12055                  0.5  "
      ]
     },
     "execution_count": 6,
     "metadata": {},
     "output_type": "execute_result"
    }
   ],
   "source": [
    "import pandas as pd\n",
    "\n",
    "# Read files in.\n",
    "movie_ratings_pre_2016 = pd.read_csv(\"fandango_score_comparison.csv\")\n",
    "movie_ratings_2016_2017 = pd.read_csv(\"movie_ratings_16_17.csv\")\n",
    "\n",
    "# Isolate fandango information.\n",
    "fandango_ratings_orig = movie_ratings_pre_2016[['FILM', 'Fandango_Stars', 'Fandango_Ratingvalue', 'Fandango_votes', 'Fandango_Difference']].copy()\n",
    "fandango_ratings_new = movie_ratings_2016_2017[['movie','year','fandango']].copy()\n",
    "\n",
    "fandango_ratings_orig.head(3)"
   ]
  },
  {
   "cell_type": "code",
   "execution_count": 7,
   "metadata": {
    "collapsed": false
   },
   "outputs": [
    {
     "data": {
      "text/html": [
       "<div>\n",
       "<style scoped>\n",
       "    .dataframe tbody tr th:only-of-type {\n",
       "        vertical-align: middle;\n",
       "    }\n",
       "\n",
       "    .dataframe tbody tr th {\n",
       "        vertical-align: top;\n",
       "    }\n",
       "\n",
       "    .dataframe thead th {\n",
       "        text-align: right;\n",
       "    }\n",
       "</style>\n",
       "<table border=\"1\" class=\"dataframe\">\n",
       "  <thead>\n",
       "    <tr style=\"text-align: right;\">\n",
       "      <th></th>\n",
       "      <th>movie</th>\n",
       "      <th>year</th>\n",
       "      <th>fandango</th>\n",
       "    </tr>\n",
       "  </thead>\n",
       "  <tbody>\n",
       "    <tr>\n",
       "      <th>0</th>\n",
       "      <td>10 Cloverfield Lane</td>\n",
       "      <td>2016</td>\n",
       "      <td>3.5</td>\n",
       "    </tr>\n",
       "    <tr>\n",
       "      <th>1</th>\n",
       "      <td>13 Hours</td>\n",
       "      <td>2016</td>\n",
       "      <td>4.5</td>\n",
       "    </tr>\n",
       "    <tr>\n",
       "      <th>2</th>\n",
       "      <td>A Cure for Wellness</td>\n",
       "      <td>2016</td>\n",
       "      <td>3.0</td>\n",
       "    </tr>\n",
       "  </tbody>\n",
       "</table>\n",
       "</div>"
      ],
      "text/plain": [
       "                 movie  year  fandango\n",
       "0  10 Cloverfield Lane  2016       3.5\n",
       "1             13 Hours  2016       4.5\n",
       "2  A Cure for Wellness  2016       3.0"
      ]
     },
     "execution_count": 7,
     "metadata": {},
     "output_type": "execute_result"
    }
   ],
   "source": [
    "fandango_ratings_new.head(3)"
   ]
  },
  {
   "cell_type": "markdown",
   "metadata": {},
   "source": [
    "Our goal here is to determine if there has been any change in Fandango's rating system after FiveThirtyEight's original analysis. The population of interest is ratings for all movies on Fandango's website. We want to sample this for two different time periods, prior to the original analysis and after.\n",
    "\n",
    "We have the data by different time periods present in two different tables so we just have to check the methodology for getting each data set.\n",
    "\n",
    "By looking at FiveThirtyEight's github [post sharing the data](https://github.com/fivethirtyeight/data/tree/master/fandango) we can see that they looked at movies that:\n",
    "\n",
    "1. Had at least 30 fan reviews on Fandango's website at time of sampling.\n",
    "2. The film must have had tickets on sale in 2015.\n",
    "\n",
    "The sampling is not random, since some movies won't be included at all. One thing we have to be careful of is temporal trends. Some years may have a set of better received movies than other years.\n",
    "\n",
    "Our [sample](https://github.com/mircealex/Movie_ratings_2016_17) of movies since the original analysis has the following properties:\n",
    "\n",
    "1. Released in 2016 and before March 22, 2017.\n",
    "2. Must have received a 'significat number of votes' although the significance is not clear.\n",
    "\n",
    "These two samples will not be able to tell with great certainty whether or not the full ratings system on Fandango has changed since the original analysis. However, by changing the goal of our analysis a little we can produce some interesting findings.\n",
    "\n",
    "## Changing the Goal of our Analysis\n",
    "\n",
    "Both sets of data are limited to popular movies released during their respective timeframes. So we will change the goal of our analysis. Our new goal is to see if there is any difference in Fandango ratings of popular movies in 2015 and Fandango's ratings of popular movies in 2016. This is a fairly good proxy for our initial goal and the data samples we already have are now representative of what we need to look at.\n",
    "\n",
    "## Isolating the Samples We Need\n",
    "\n",
    "We need to make sure the movies in each sample are from the correct years. For the first data set we can pull the year ouf of the 'FILM' column."
   ]
  },
  {
   "cell_type": "code",
   "execution_count": 11,
   "metadata": {
    "collapsed": false
   },
   "outputs": [
    {
     "data": {
      "text/html": [
       "<div>\n",
       "<style scoped>\n",
       "    .dataframe tbody tr th:only-of-type {\n",
       "        vertical-align: middle;\n",
       "    }\n",
       "\n",
       "    .dataframe tbody tr th {\n",
       "        vertical-align: top;\n",
       "    }\n",
       "\n",
       "    .dataframe thead th {\n",
       "        text-align: right;\n",
       "    }\n",
       "</style>\n",
       "<table border=\"1\" class=\"dataframe\">\n",
       "  <thead>\n",
       "    <tr style=\"text-align: right;\">\n",
       "      <th></th>\n",
       "      <th>FILM</th>\n",
       "      <th>Fandango_Stars</th>\n",
       "      <th>Fandango_Ratingvalue</th>\n",
       "      <th>Fandango_votes</th>\n",
       "      <th>Fandango_Difference</th>\n",
       "      <th>year</th>\n",
       "    </tr>\n",
       "  </thead>\n",
       "  <tbody>\n",
       "    <tr>\n",
       "      <th>0</th>\n",
       "      <td>Avengers: Age of Ultron (2015)</td>\n",
       "      <td>5.0</td>\n",
       "      <td>4.5</td>\n",
       "      <td>14846</td>\n",
       "      <td>0.5</td>\n",
       "      <td>2015</td>\n",
       "    </tr>\n",
       "    <tr>\n",
       "      <th>1</th>\n",
       "      <td>Cinderella (2015)</td>\n",
       "      <td>5.0</td>\n",
       "      <td>4.5</td>\n",
       "      <td>12640</td>\n",
       "      <td>0.5</td>\n",
       "      <td>2015</td>\n",
       "    </tr>\n",
       "    <tr>\n",
       "      <th>2</th>\n",
       "      <td>Ant-Man (2015)</td>\n",
       "      <td>5.0</td>\n",
       "      <td>4.5</td>\n",
       "      <td>12055</td>\n",
       "      <td>0.5</td>\n",
       "      <td>2015</td>\n",
       "    </tr>\n",
       "  </tbody>\n",
       "</table>\n",
       "</div>"
      ],
      "text/plain": [
       "                             FILM  Fandango_Stars  Fandango_Ratingvalue  \\\n",
       "0  Avengers: Age of Ultron (2015)             5.0                   4.5   \n",
       "1               Cinderella (2015)             5.0                   4.5   \n",
       "2                  Ant-Man (2015)             5.0                   4.5   \n",
       "\n",
       "   Fandango_votes  Fandango_Difference  year  \n",
       "0           14846                  0.5  2015  \n",
       "1           12640                  0.5  2015  \n",
       "2           12055                  0.5  2015  "
      ]
     },
     "execution_count": 11,
     "metadata": {},
     "output_type": "execute_result"
    }
   ],
   "source": [
    "fandango_ratings_orig['year'] = fandango_ratings_orig['FILM'].str[-5:-1]\n",
    "fandango_ratings_orig.head(3)"
   ]
  },
  {
   "cell_type": "markdown",
   "metadata": {},
   "source": [
    "Now lets check the years of the movies in each data set."
   ]
  },
  {
   "cell_type": "code",
   "execution_count": 13,
   "metadata": {
    "collapsed": false
   },
   "outputs": [
    {
     "data": {
      "text/plain": [
       "2015    129\n",
       "2014     17\n",
       "Name: year, dtype: int64"
      ]
     },
     "execution_count": 13,
     "metadata": {},
     "output_type": "execute_result"
    }
   ],
   "source": [
    "fandango_ratings_orig['year'].value_counts()"
   ]
  },
  {
   "cell_type": "code",
   "execution_count": 12,
   "metadata": {
    "collapsed": false
   },
   "outputs": [
    {
     "data": {
      "text/plain": [
       "2016    191\n",
       "2017     23\n",
       "Name: year, dtype: int64"
      ]
     },
     "execution_count": 12,
     "metadata": {},
     "output_type": "execute_result"
    }
   ],
   "source": [
    "fandango_ratings_new['year'].value_counts()"
   ]
  },
  {
   "cell_type": "markdown",
   "metadata": {},
   "source": [
    "Each data set has some movies from another year than we want to look at. Lets isolate our data sets to just movies released in 2015 and 2016, respectively."
   ]
  },
  {
   "cell_type": "code",
   "execution_count": 19,
   "metadata": {
    "collapsed": true
   },
   "outputs": [],
   "source": [
    "ratings_15 = fandango_ratings_orig[fandango_ratings_orig['year'] == '2015'].copy()\n",
    "ratings_16 = fandango_ratings_new[fandango_ratings_new['year'] == 2016].copy()"
   ]
  },
  {
   "cell_type": "markdown",
   "metadata": {},
   "source": [
    "## Comparing Distribution Shapes for 2015 and 2016\n",
    "\n",
    "We'll start our analysis by taking a high-level look at the shapes of our distributions of movie ratings for both samples."
   ]
  },
  {
   "cell_type": "code",
   "execution_count": 73,
   "metadata": {
    "collapsed": false
   },
   "outputs": [
    {
     "data": {
      "image/png": "[encoded data removed]",
      "text/plain": [
       "<matplotlib.figure.Figure at 0x7f43194ea780>"
      ]
     },
     "metadata": {},
     "output_type": "display_data"
    }
   ],
   "source": [
    "%matplotlib inline\n",
    "from matplotlib import pyplot as plt\n",
    "from numpy import arange\n",
    "\n",
    "plt.style.use('fivethirtyeight')\n",
    "\n",
    "ratings_15[\"Fandango_Stars\"].plot.kde(label='2015',legend=True,figsize=(8,6.5))\n",
    "ratings_16[\"fandango\"].plot.kde(label='2016',legend=True)\n",
    "\n",
    "plt.title(\"Comparison of Fandago\\'s ratings\\n(2015 vs 2016)\")\n",
    "plt.xlabel(\"Stars\")\n",
    "plt.xlim(0,5)\n",
    "plt.xticks([0, 0.5, 1.0, 1.5, 2.0, 2.5, 3.0, 3.5, 4.0, 4.5, 5.0])\n",
    "plt.ylabel(\"Density\")\n",
    "plt.xticks(arange(0,5.1,.5))\n",
    "plt.show()"
   ]
  },
  {
   "cell_type": "markdown",
   "metadata": {},
   "source": [
    "Both distributions are skewed heavily to the left. However, 2016 is moved slightly left compared to 2016.\n",
    "\n",
    "The fact thast both are skewed left indicates that fan ratings on Fandango rate movies very highly. As discussed in the FiveThirtyEight article, this seems dubious since Fandango also sells tickets.\n",
    "\n",
    "The fact that the distribution moved left for 2016 indicates that Fandango's ratings of popular movies were lower in 2016 than in 2015. This confirms that there is indeed a difference in Fandango movie ratings between 2015 and 2016."
   ]
  },
  {
   "cell_type": "markdown",
   "metadata": {},
   "source": [
    "## Comparing Relative Frequencies\n",
    "\n",
    "Lets look at the frequency distribution tables for our distrubitions."
   ]
  },
  {
   "cell_type": "code",
   "execution_count": 30,
   "metadata": {
    "collapsed": false
   },
   "outputs": [
    {
     "name": "stdout",
     "output_type": "stream",
     "text": [
      "2015\n",
      "---------------\n",
      "3.0     8.527132\n",
      "3.5    17.829457\n",
      "4.0    28.682171\n",
      "4.5    37.984496\n",
      "5.0     6.976744\n",
      "Name: Fandango_Stars, dtype: float64\n",
      "2016\n",
      "---------------\n",
      "2.5     3.141361\n",
      "3.0     7.329843\n",
      "3.5    24.083770\n",
      "4.0    40.314136\n",
      "4.5    24.607330\n",
      "5.0     0.523560\n",
      "Name: fandango, dtype: float64\n"
     ]
    }
   ],
   "source": [
    "fdt_15 = ratings_15[\"Fandango_Stars\"].value_counts(normalize=True).sort_index()*100\n",
    "fdt_16 = ratings_16[\"fandango\"].value_counts(normalize=True).sort_index()*100\n",
    "print(\"2015\\n---------------\")\n",
    "print(fdt_15)\n",
    "print(\"2016\\n---------------\")\n",
    "print(fdt_16)"
   ]
  },
  {
   "cell_type": "markdown",
   "metadata": {},
   "source": [
    "The downward shift of the distributions of ratings is still apparent in our tables. Three things about the 2016 table stand out.\n",
    "\n",
    "1. There are now movies with less than 3 star ratings (if only down to 2.5).\n",
    "2. There is a significat decrease in the percent of movies with 4.5 or 5 stars.\n",
    "3. There is now a spike at 4 stars instead of the largest group being 4.5 before."
   ]
  },
  {
   "cell_type": "markdown",
   "metadata": {},
   "source": [
    "## Determining the Direction of the Change\n",
    "\n",
    "We'll take a look at some summary statistics to verify our suspected direction of change in ratings."
   ]
  },
  {
   "cell_type": "code",
   "execution_count": 53,
   "metadata": {
    "collapsed": false
   },
   "outputs": [
    {
     "data": {
      "text/html": [
       "<div>\n",
       "<style scoped>\n",
       "    .dataframe tbody tr th:only-of-type {\n",
       "        vertical-align: middle;\n",
       "    }\n",
       "\n",
       "    .dataframe tbody tr th {\n",
       "        vertical-align: top;\n",
       "    }\n",
       "\n",
       "    .dataframe thead th {\n",
       "        text-align: right;\n",
       "    }\n",
       "</style>\n",
       "<table border=\"1\" class=\"dataframe\">\n",
       "  <thead>\n",
       "    <tr style=\"text-align: right;\">\n",
       "      <th></th>\n",
       "      <th>2015</th>\n",
       "      <th>2016</th>\n",
       "    </tr>\n",
       "  </thead>\n",
       "  <tbody>\n",
       "    <tr>\n",
       "      <th>mean</th>\n",
       "      <td>4.09</td>\n",
       "      <td>3.89</td>\n",
       "    </tr>\n",
       "    <tr>\n",
       "      <th>median</th>\n",
       "      <td>4.00</td>\n",
       "      <td>4.00</td>\n",
       "    </tr>\n",
       "    <tr>\n",
       "      <th>mode</th>\n",
       "      <td>4.50</td>\n",
       "      <td>4.00</td>\n",
       "    </tr>\n",
       "  </tbody>\n",
       "</table>\n",
       "</div>"
      ],
      "text/plain": [
       "        2015  2016\n",
       "mean    4.09  3.89\n",
       "median  4.00  4.00\n",
       "mode    4.50  4.00"
      ]
     },
     "execution_count": 53,
     "metadata": {},
     "output_type": "execute_result"
    }
   ],
   "source": [
    "mean_15 = round(ratings_15[\"Fandango_Stars\"].mean(),2)\n",
    "median_15 = round(ratings_15[\"Fandango_Stars\"].median(),2)\n",
    "mode_15 = round(ratings_15[\"Fandango_Stars\"].mode()[0],2)\n",
    "mean_16 = round(ratings_16[\"fandango\"].mean(),2)\n",
    "median_16 = round(ratings_16[\"fandango\"].median(),2)\n",
    "mode_16 = round(ratings_16[\"fandango\"].mode()[0],2)\n",
    "\n",
    "summary = pd.DataFrame()\n",
    "summary['2015'] = [mean_15,median_15,mode_15]\n",
    "summary['2016'] = [mean_16,median_16,mode_16]\n",
    "summary.index = ['mean','median','mode']\n",
    "summary"
   ]
  },
  {
   "cell_type": "code",
   "execution_count": 70,
   "metadata": {
    "collapsed": false
   },
   "outputs": [
    {
     "data": {
      "image/png": "[encoded data removed]",
      "text/plain": [
       "<matplotlib.figure.Figure at 0x7f4319470390>"
      ]
     },
     "metadata": {},
     "output_type": "display_data"
    }
   ],
   "source": [
    "plt.style.use('fivethirtyeight')\n",
    "\n",
    "summary['2015'].plot.bar(color = '#0066FF', align = 'center', label = '2015', width = .25)\n",
    "summary['2016'].plot.bar(color = '#CC0000', align = 'edge', label = '2016', width = .25,\n",
    "                        rot = 0, figsize = (8,5))\n",
    "\n",
    "plt.title(\"Comparing summary Statistics\\n(2015 vs 2016)\")\n",
    "plt.ylim(0,5)\n",
    "plt.yticks(arange(0,5.1,.5))\n",
    "plt.ylabel('Stars')\n",
    "plt.legend(framealpha = 0, loc=9)\n",
    "plt.show()"
   ]
  },
  {
   "cell_type": "markdown",
   "metadata": {},
   "source": [
    "While the median rating is the same for both 2015 and 2016, the mean and mode both decreased, confirming that Fandango's ratings overall did overall become slightly lower."
   ]
  },
  {
   "cell_type": "markdown",
   "metadata": {},
   "source": [
    "## Conclusion\n",
    "\n",
    "Our analysis showed that there's indeed a slight difference between Fandango's ratings for popular movies in 2015 and Fandango's ratings for popular movies in 2016. We also determined that, on average, popular movies released in 2016 were rated lower on Fandango than popular movies released in 2015.\n",
    "\n",
    "While we can't be completely sure what caused the changes, it seems likely that the ratings system was changed as a response to the [article from FiveThirtyEight](https://fivethirtyeight.com/features/fandango-movies-ratings/)."
   ]
  }
 ],
 "metadata": {
  "kernelspec": {
   "display_name": "Python 3",
   "language": "python",
   "name": "python3"
  },
  "language_info": {
   "codemirror_mode": {
    "name": "ipython",
    "version": 3
   },
   "file_extension": ".py",
   "mimetype": "text/x-python",
   "name": "python",
   "nbconvert_exporter": "python",
   "pygments_lexer": "ipython3",
   "version": "3.4.3"
  }
 },
 "nbformat": 4,
 "nbformat_minor": 2
}
